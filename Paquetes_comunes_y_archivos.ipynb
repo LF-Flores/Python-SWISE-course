{
 "cells": [
  {
   "cell_type": "markdown",
   "metadata": {},
   "source": [
    "# NumPy"
   ]
  },
  {
   "cell_type": "markdown",
   "metadata": {},
   "source": [
    "NumPy (Numerical Python) es una librería de construcción y mantenimiento colaborativo y de código libre que se ha vuelto el estándar para cálculos numéricos en Python, al proveer dos estructuras de datos: arreglos y matrices, optimizados para operar matemáticamente. Éstos vienen con métodos incorporados que benefician directamente operaciones de álgebra lineal, no obstante, al ser mucho del cálculo numérico y científico basado en álgebra lineal, ésto lo ha vuelto el centro de ecosistemas de paquetes de cómputo científico en Python."
   ]
  },
  {
   "cell_type": "code",
   "execution_count": null,
   "metadata": {},
   "outputs": [],
   "source": [
    "import numpy as np"
   ]
  },
  {
   "cell_type": "code",
   "execution_count": null,
   "metadata": {},
   "outputs": [],
   "source": [
    "dir(np)"
   ]
  },
  {
   "cell_type": "code",
   "execution_count": null,
   "metadata": {},
   "outputs": [],
   "source": [
    "np.abs(-5)"
   ]
  },
  {
   "cell_type": "code",
   "execution_count": null,
   "metadata": {},
   "outputs": [],
   "source": [
    "lista_prueba = [1,6,-2,-10,4]\n",
    "np.absolute(lista_prueba)      "
   ]
  },
  {
   "cell_type": "code",
   "execution_count": null,
   "metadata": {},
   "outputs": [],
   "source": [
    "# absolute es de tipo \"ufunc\", que son funciones implementadas en NumPy\n",
    "# para operar elemento por elemento, similar a funciones en Octave o R\n",
    "type(np.absolute)"
   ]
  },
  {
   "cell_type": "code",
   "execution_count": null,
   "metadata": {},
   "outputs": [],
   "source": [
    "type(np.add)"
   ]
  },
  {
   "cell_type": "code",
   "execution_count": null,
   "metadata": {},
   "outputs": [],
   "source": [
    "np.add([1,7,2,1,4,5,2,1,10],[-1,3,2,-40,2,5,2,6,2])"
   ]
  },
  {
   "cell_type": "markdown",
   "metadata": {},
   "source": [
    "Esto debe hacerse de esta manera, pues previamente sumar listas resulta en una respuesta erronea..."
   ]
  },
  {
   "cell_type": "code",
   "execution_count": null,
   "metadata": {},
   "outputs": [],
   "source": [
    "[1,2,4] + [1,6,4]"
   ]
  },
  {
   "cell_type": "markdown",
   "metadata": {},
   "source": [
    "Hay una manera de poder utilizar los símbolos estándar de aritmética sobre estructuras parecidas a las listas, al inicializar un arreglo de NumPy con antelación:"
   ]
  },
  {
   "cell_type": "code",
   "execution_count": null,
   "metadata": {},
   "outputs": [],
   "source": [
    "np.array([1,2,4]) + np.array([1,6,4])"
   ]
  },
  {
   "cell_type": "code",
   "execution_count": null,
   "metadata": {},
   "outputs": [],
   "source": [
    "x = np.array([1,2,4])\n",
    "type(x)"
   ]
  },
  {
   "cell_type": "code",
   "execution_count": null,
   "metadata": {},
   "outputs": [],
   "source": [
    "# Creemos una función para filtrar de \"dir\" todos los dunder methods que por ahora no nos interesan tanto.\n",
    "def vdir(obj):\n",
    "    return([x for x in dir(obj) if not x.startswith('_')])"
   ]
  },
  {
   "cell_type": "code",
   "execution_count": null,
   "metadata": {},
   "outputs": [],
   "source": [
    "vdir(x)"
   ]
  },
  {
   "cell_type": "markdown",
   "metadata": {},
   "source": [
    "## Aritmética con arreglos"
   ]
  },
  {
   "cell_type": "code",
   "execution_count": null,
   "metadata": {},
   "outputs": [],
   "source": [
    "x = np.array([1,4,2,6,5,1])\n",
    "y = np.array([2,1,5,4,3,6])\n",
    "x + y"
   ]
  },
  {
   "cell_type": "code",
   "execution_count": null,
   "metadata": {},
   "outputs": [],
   "source": [
    "x**2"
   ]
  },
  {
   "cell_type": "code",
   "execution_count": null,
   "metadata": {},
   "outputs": [],
   "source": [
    "4*x"
   ]
  },
  {
   "cell_type": "code",
   "execution_count": null,
   "metadata": {},
   "outputs": [],
   "source": [
    "x^y  # Operación XOR entrada por entrada"
   ]
  },
  {
   "cell_type": "code",
   "execution_count": null,
   "metadata": {},
   "outputs": [],
   "source": [
    "print(x)\n",
    "print(y)\n",
    "x%y  # Operación módulo entrada por entrada"
   ]
  },
  {
   "cell_type": "markdown",
   "metadata": {},
   "source": [
    "## Funciones comunes"
   ]
  },
  {
   "cell_type": "code",
   "execution_count": null,
   "metadata": {},
   "outputs": [],
   "source": [
    "print(x)\n",
    "print(x.cumsum())\n",
    "print(x.cumprod())"
   ]
  },
  {
   "cell_type": "code",
   "execution_count": null,
   "metadata": {},
   "outputs": [],
   "source": [
    "print(np.cos(x))\n",
    "print(np.sin(x))\n",
    "print(np.tan(x))"
   ]
  },
  {
   "cell_type": "code",
   "execution_count": null,
   "metadata": {},
   "outputs": [],
   "source": [
    "x = x/10\n",
    "x"
   ]
  },
  {
   "cell_type": "code",
   "execution_count": null,
   "metadata": {},
   "outputs": [],
   "source": [
    "print(np.arccos(x))\n",
    "print(np.arcsin(x))\n",
    "print(np.arctan(x))"
   ]
  },
  {
   "cell_type": "code",
   "execution_count": null,
   "metadata": {},
   "outputs": [],
   "source": [
    "print(x)\n",
    "print(np.max(x))\n",
    "print(np.argmax(x))"
   ]
  },
  {
   "cell_type": "code",
   "execution_count": null,
   "metadata": {},
   "outputs": [],
   "source": [
    "print(x)\n",
    "print(np.min(x))\n",
    "print(np.argmin(x))"
   ]
  },
  {
   "cell_type": "code",
   "execution_count": null,
   "metadata": {},
   "outputs": [],
   "source": [
    "print(x)\n",
    "print(np.sort(x))"
   ]
  },
  {
   "cell_type": "markdown",
   "metadata": {},
   "source": [
    "## Polinomios"
   ]
  },
  {
   "cell_type": "code",
   "execution_count": null,
   "metadata": {},
   "outputs": [],
   "source": [
    "np.poly([1])  # Esto corresponde a un polinomio con raiz igual a 1. Este es: p(x) = x - 1, expresado por sus coeficientes: [1, -1] "
   ]
  },
  {
   "cell_type": "code",
   "execution_count": null,
   "metadata": {},
   "outputs": [],
   "source": [
    "np.poly([1,2,5,-2]) "
   ]
  },
  {
   "cell_type": "code",
   "execution_count": null,
   "metadata": {},
   "outputs": [],
   "source": [
    "coeficientes = np.poly([1,2,5,-2]) \n",
    "f = np.poly1d(coeficientes)\n",
    "type(f)"
   ]
  },
  {
   "cell_type": "code",
   "execution_count": null,
   "metadata": {},
   "outputs": [],
   "source": [
    "f(6), f(-1), f(5)"
   ]
  },
  {
   "cell_type": "code",
   "execution_count": null,
   "metadata": {},
   "outputs": [],
   "source": [
    "f([6,-1,5])"
   ]
  },
  {
   "cell_type": "code",
   "execution_count": null,
   "metadata": {},
   "outputs": [],
   "source": [
    "import matplotlib.pyplot as plt\n",
    "x = np.arange(-3,5,0.1)\n",
    "plt.plot(x, f(x))\n",
    "plt.show()"
   ]
  },
  {
   "cell_type": "code",
   "execution_count": null,
   "metadata": {},
   "outputs": [],
   "source": [
    "g = np.poly1d(np.poly([6,-2]))\n",
    "print(f,\"  <--- f\\n\")\n",
    "print(g,\"  <--- g\\n\")\n",
    "print(f+g,\"  <--- f+g\\n\")\n",
    "print(f*g,\"  <--- f*g\\n\")\n",
    "print(f/g,\"  <--- ¿f/g?    \\n\")\n",
    "print((f/g)[0],\"  <--- División de f/g\\n \")   #  Resultado de la división\n",
    "print((f/g)[1],\"  <--- Residuo de f/g\")   #  Residuo"
   ]
  },
  {
   "cell_type": "code",
   "execution_count": null,
   "metadata": {},
   "outputs": [],
   "source": [
    "# Interpolación de polinomios\n",
    "x = np.array([0.0, 1.0, 2.0, 3.0,  4.0,  5.0])   # \\__ Pares de puntos a ajustar \n",
    "y = np.array([0.0, 0.8, 0.9, 0.1, -0.8, -1.0])   # /\n",
    "coeficientes_ajuste = np.polyfit(x, y, 3)  # Ajuste de polinomio cúbico (grado 3)\n",
    "p = np.poly1d(coeficientes_ajuste)\n",
    "p"
   ]
  },
  {
   "cell_type": "code",
   "execution_count": null,
   "metadata": {},
   "outputs": [],
   "source": [
    "# Los ajustes de grado alto pueden tener inestabilidad numérica y se mostrará como un warning\n",
    "p30 = np.poly1d(np.polyfit(x, y, 30))\n",
    "p30"
   ]
  },
  {
   "cell_type": "code",
   "execution_count": null,
   "metadata": {},
   "outputs": [],
   "source": [
    "xp = np.linspace(-2, 6, 100)\n",
    "fig = plt.plot(x, y, 'o', xp, p(xp), '-', xp, p30(xp), '--')\n",
    "plt.ylim(-2,2)\n",
    "#plt.legend()\n",
    "plt.show()"
   ]
  },
  {
   "cell_type": "markdown",
   "metadata": {},
   "source": [
    "## Números especiales"
   ]
  },
  {
   "cell_type": "code",
   "execution_count": null,
   "metadata": {},
   "outputs": [],
   "source": [
    "np.pi, np.e"
   ]
  },
  {
   "cell_type": "code",
   "execution_count": null,
   "metadata": {},
   "outputs": [],
   "source": [
    "np.nan"
   ]
  },
  {
   "cell_type": "code",
   "execution_count": null,
   "metadata": {},
   "outputs": [],
   "source": [
    "type(np.nan)"
   ]
  },
  {
   "cell_type": "code",
   "execution_count": null,
   "metadata": {},
   "outputs": [],
   "source": [
    "np.nan < 5, np.nan > 5"
   ]
  },
  {
   "cell_type": "code",
   "execution_count": null,
   "metadata": {},
   "outputs": [],
   "source": [
    "np.nan == np.nan"
   ]
  },
  {
   "cell_type": "code",
   "execution_count": null,
   "metadata": {},
   "outputs": [],
   "source": [
    "np.isnan(np.nan), np.isnan(5)"
   ]
  },
  {
   "cell_type": "code",
   "execution_count": null,
   "metadata": {},
   "outputs": [],
   "source": [
    "np.inf"
   ]
  },
  {
   "cell_type": "code",
   "execution_count": null,
   "metadata": {},
   "outputs": [],
   "source": [
    "np.inf < 5, np.inf > 5"
   ]
  },
  {
   "cell_type": "code",
   "execution_count": null,
   "metadata": {},
   "outputs": [],
   "source": [
    "np.inf == np.inf"
   ]
  },
  {
   "cell_type": "code",
   "execution_count": null,
   "metadata": {},
   "outputs": [],
   "source": [
    "np.inf == np.infty"
   ]
  },
  {
   "cell_type": "code",
   "execution_count": null,
   "metadata": {},
   "outputs": [],
   "source": [
    "np.isinf(np.inf), np.isinf(np.infty), np.isposinf(np.inf), np.isneginf(np.inf), np.isreal(np.inf)"
   ]
  },
  {
   "cell_type": "markdown",
   "metadata": {},
   "source": [
    "## Matrices"
   ]
  },
  {
   "cell_type": "code",
   "execution_count": null,
   "metadata": {},
   "outputs": [],
   "source": [
    "v = np.array([1,0,0])\n",
    "A = np.array([\n",
    "    [1,3,0],\n",
    "    [3,0,1],\n",
    "    [2,0,1]\n",
    "])"
   ]
  },
  {
   "cell_type": "code",
   "execution_count": null,
   "metadata": {},
   "outputs": [],
   "source": [
    "A@v # Multiplicación matricial"
   ]
  },
  {
   "cell_type": "code",
   "execution_count": null,
   "metadata": {},
   "outputs": [],
   "source": [
    "A*v # Multiplicación entrada por entrada"
   ]
  },
  {
   "cell_type": "code",
   "execution_count": null,
   "metadata": {},
   "outputs": [],
   "source": [
    "w = np.array([4,2,1])\n",
    "v.dot(w), w.dot(v)"
   ]
  },
  {
   "cell_type": "code",
   "execution_count": null,
   "metadata": {},
   "outputs": [],
   "source": [
    "np.eye(3)"
   ]
  },
  {
   "cell_type": "code",
   "execution_count": null,
   "metadata": {},
   "outputs": [],
   "source": [
    "np.zeros(3)"
   ]
  },
  {
   "cell_type": "code",
   "execution_count": null,
   "metadata": {},
   "outputs": [],
   "source": [
    "np.zeros((3,3))"
   ]
  },
  {
   "cell_type": "code",
   "execution_count": null,
   "metadata": {},
   "outputs": [],
   "source": [
    "np.zeros((3,4))"
   ]
  },
  {
   "cell_type": "code",
   "execution_count": null,
   "metadata": {},
   "outputs": [],
   "source": [
    "np.diag([1,5,3,-4])"
   ]
  },
  {
   "cell_type": "code",
   "execution_count": null,
   "metadata": {},
   "outputs": [],
   "source": [
    "x = np.diag([1,5,3,-4])\n",
    "np.shape(x)"
   ]
  },
  {
   "cell_type": "code",
   "execution_count": null,
   "metadata": {},
   "outputs": [],
   "source": [
    "help(np.linalg)"
   ]
  },
  {
   "cell_type": "markdown",
   "metadata": {},
   "source": [
    "## Números aleatorios"
   ]
  },
  {
   "cell_type": "code",
   "execution_count": null,
   "metadata": {},
   "outputs": [],
   "source": [
    "np.random.randn(2)"
   ]
  },
  {
   "cell_type": "code",
   "execution_count": null,
   "metadata": {},
   "outputs": [],
   "source": [
    "np.random.randn(5)"
   ]
  },
  {
   "cell_type": "code",
   "execution_count": null,
   "metadata": {},
   "outputs": [],
   "source": [
    "np.random.randn(2,3)"
   ]
  },
  {
   "cell_type": "code",
   "execution_count": null,
   "metadata": {},
   "outputs": [],
   "source": [
    "muestra = np.random.normal(3, 0.3, 10000)\n",
    "print(np.mean(muestra))\n",
    "print(np.std(muestra))"
   ]
  },
  {
   "cell_type": "code",
   "execution_count": null,
   "metadata": {},
   "outputs": [],
   "source": [
    "help(np.random)"
   ]
  },
  {
   "cell_type": "markdown",
   "metadata": {},
   "source": [
    "# Pandas"
   ]
  },
  {
   "cell_type": "markdown",
   "metadata": {},
   "source": [
    "Pandas es una librería de código libre para Python, cuyo nombre deriva de las dos palabras **Pan**el **Da**ta, que es un término común para llamar a la data multidimensional encontrada en rubros de estadística y econometría. El objeto central del paquete son los `DataFrame`, que representan tablas al estilo de las familiares tablas de `Excel`, y su sub-objeto elemental son llamados `Series`, que representan columnas de la tabla o podrían pensarse también en un contexto de \"serie de tiempo\", es decir, data que ha sido tomada en pasos uniformes en el tiempo."
   ]
  },
  {
   "cell_type": "markdown",
   "metadata": {},
   "source": [
    "## Creación de DataFrame"
   ]
  },
  {
   "cell_type": "code",
   "execution_count": null,
   "metadata": {},
   "outputs": [],
   "source": [
    "import pandas as pd"
   ]
  },
  {
   "cell_type": "markdown",
   "metadata": {},
   "source": [
    "Existen múltiples maneras de construir la estructura de datos `DataFrame` en `pandas`. Veremos algunas de ellas. Podemos comenzar con tener información en listas, como puede ser común al recolectarla de usuarios."
   ]
  },
  {
   "cell_type": "code",
   "execution_count": null,
   "metadata": {},
   "outputs": [],
   "source": [
    "nombres = [\"María\", \"Abner\", \"Ramón\", \"Carolina\", \"Ramiro\", \"Emily\", \"Sofía\", \"Cármen\"]\n",
    "edades = [22, 21, 22, 24, 27, 20, 25, 23]\n",
    "deportes = np.random.choice([True, False], len(nombres))\n",
    "fuma = np.random.choice([True, False], len(nombres))\n",
    "gatoVSperro = np.random.choice(range(-5,5), len(nombres))  # -5 = ¡Me encantan los gatos pero no los perros!, \n",
    "                                                           #  0 = Neutral/ambos\n",
    "                                                           #  5 = ¡Me encantan los perros pero no los gatos!"
   ]
  },
  {
   "cell_type": "markdown",
   "metadata": {},
   "source": [
    "Nos creamos un diccionario que resuma esta data con respectivos encabezados"
   ]
  },
  {
   "cell_type": "code",
   "execution_count": null,
   "metadata": {},
   "outputs": [],
   "source": [
    "diccionario = {\"Nombre\": nombres,\n",
    "               \"Edad\": edades,\n",
    "               \"Juega_deporte\": deportes,\n",
    "               \"Fuma\": fuma,\n",
    "               \"Gatos_o_perros\": gatoVSperro}\n",
    "\n",
    "diccionario"
   ]
  },
  {
   "cell_type": "markdown",
   "metadata": {},
   "source": [
    "Aprovechamos aquí a introducir un paquete útil para lectura de nuestra data en jupyter notebooks o en la consola. "
   ]
  },
  {
   "cell_type": "code",
   "execution_count": null,
   "metadata": {},
   "outputs": [],
   "source": [
    "from pprint import pprint  # pretty print"
   ]
  },
  {
   "cell_type": "code",
   "execution_count": null,
   "metadata": {},
   "outputs": [],
   "source": [
    "pprint(diccionario)"
   ]
  },
  {
   "cell_type": "markdown",
   "metadata": {},
   "source": [
    "Otra forma en la que pudimos habernos formado este diccionario es:"
   ]
  },
  {
   "cell_type": "code",
   "execution_count": null,
   "metadata": {},
   "outputs": [],
   "source": [
    "keys = [\"Nombre\", \"Edad\", \"Juega_deporte\", \"Fuma\", \"Gatos_o_perros\"]\n",
    "values = [nombres, edades, deportes, fuma, gatoVSperro]\n",
    "diccionario = {key:value for key, value in zip(keys, values)}\n",
    "pprint(diccionario)"
   ]
  },
  {
   "cell_type": "markdown",
   "metadata": {},
   "source": [
    "Una vez creado nuestro diccionario, como tenemos cada dato asociado a un encabezado, esto equivale a tener contenidos de columnas asociados a un nombre de columna, volviéndose esto explícito al momento de crear nuestro `DataFrame`"
   ]
  },
  {
   "cell_type": "code",
   "execution_count": null,
   "metadata": {},
   "outputs": [],
   "source": [
    "df = pd.DataFrame(diccionario)\n",
    "df"
   ]
  },
  {
   "cell_type": "code",
   "execution_count": null,
   "metadata": {},
   "outputs": [],
   "source": [
    "df.Fuma"
   ]
  },
  {
   "cell_type": "code",
   "execution_count": null,
   "metadata": {},
   "outputs": [],
   "source": [
    "df.Gatos_o_perros"
   ]
  },
  {
   "cell_type": "code",
   "execution_count": null,
   "metadata": {},
   "outputs": [],
   "source": [
    "df[\"Gatos_o_perros\"]"
   ]
  },
  {
   "cell_type": "code",
   "execution_count": null,
   "metadata": {},
   "outputs": [],
   "source": [
    "type(df.Gatos_o_perros)"
   ]
  },
  {
   "cell_type": "code",
   "execution_count": null,
   "metadata": {},
   "outputs": [],
   "source": [
    "vdir(df)"
   ]
  },
  {
   "cell_type": "code",
   "execution_count": null,
   "metadata": {},
   "outputs": [],
   "source": [
    "vdir(df.Gatos_o_perros)"
   ]
  },
  {
   "cell_type": "code",
   "execution_count": null,
   "metadata": {},
   "outputs": [],
   "source": [
    "df.T"
   ]
  },
  {
   "cell_type": "code",
   "execution_count": null,
   "metadata": {},
   "outputs": [],
   "source": [
    "df.index = df.Nombre              # Utilizaremos los nombres como índices\n",
    "df = df.drop(columns = \"Nombre\")  # Borra la columna \"Nombre\" ya que no la ocupamos luego de hacerla índice\n",
    "df = df.T                         # Matriz transpuesta\n",
    "df"
   ]
  },
  {
   "cell_type": "code",
   "execution_count": null,
   "metadata": {},
   "outputs": [],
   "source": [
    "df.María"
   ]
  },
  {
   "cell_type": "code",
   "execution_count": null,
   "metadata": {},
   "outputs": [],
   "source": [
    "df.Ramiro"
   ]
  },
  {
   "cell_type": "markdown",
   "metadata": {},
   "source": [
    "## Filtrado de DataFrames"
   ]
  },
  {
   "cell_type": "code",
   "execution_count": null,
   "metadata": {},
   "outputs": [],
   "source": [
    "df = pd.DataFrame(diccionario)\n",
    "df"
   ]
  },
  {
   "cell_type": "markdown",
   "metadata": {},
   "source": [
    "Otra forma de lograr lo mismo sin modificar el dataframe es mediante `iloc` (que significa \"index label of column\")"
   ]
  },
  {
   "cell_type": "code",
   "execution_count": null,
   "metadata": {},
   "outputs": [],
   "source": [
    "df.iloc[0]"
   ]
  },
  {
   "cell_type": "code",
   "execution_count": null,
   "metadata": {},
   "outputs": [],
   "source": [
    "df.iloc[2:5]"
   ]
  },
  {
   "cell_type": "code",
   "execution_count": null,
   "metadata": {},
   "outputs": [],
   "source": [
    "len(df)"
   ]
  },
  {
   "cell_type": "code",
   "execution_count": null,
   "metadata": {},
   "outputs": [],
   "source": [
    "df.iloc[np.random.choice(range(len(df)), 4)]  # Toma una muestra aleatoria simple de tamaño 4"
   ]
  },
  {
   "cell_type": "code",
   "execution_count": null,
   "metadata": {},
   "outputs": [],
   "source": [
    "df.Nombre == \"María\""
   ]
  },
  {
   "cell_type": "code",
   "execution_count": null,
   "metadata": {},
   "outputs": [],
   "source": [
    "df[df.Nombre == \"María\"]"
   ]
  },
  {
   "cell_type": "code",
   "execution_count": null,
   "metadata": {},
   "outputs": [],
   "source": [
    "df[df.Fuma == False]"
   ]
  },
  {
   "cell_type": "code",
   "execution_count": null,
   "metadata": {},
   "outputs": [],
   "source": [
    "df.Gatos_o_perros.unique()"
   ]
  },
  {
   "cell_type": "code",
   "execution_count": null,
   "metadata": {},
   "outputs": [],
   "source": [
    "n = 100\n",
    "nombres = [f\"Persona {i+1}\" for i in range(n)]\n",
    "size = len(nombres)\n",
    "edades = np.random.choice(range(21,60), size)\n",
    "deportes = np.random.choice([True, False], size)\n",
    "fuma = np.random.choice([True, False], size)\n",
    "gatoVSperro = np.random.choice(range(-5,5), size) \n",
    "universidad = np.random.choice([\"Norte\", \"Sur\", \"Central\"], size)\n",
    "\n",
    "df = pd.DataFrame(data = np.array([nombres, edades, deportes, fuma, gatoVSperro, universidad]).T,  # Debemos transponer la data\n",
    "                  columns = [\"Nombre\", \"Edad\", \"Juega_deporte\", \"Fuma\", \"Gatos_o_perros\", \"Universidad\"])\n",
    "\n",
    "df.head(10)"
   ]
  },
  {
   "cell_type": "code",
   "execution_count": null,
   "metadata": {},
   "outputs": [],
   "source": [
    "df.shape"
   ]
  },
  {
   "cell_type": "code",
   "execution_count": null,
   "metadata": {},
   "outputs": [],
   "source": [
    "type(df.Gatos_o_perros[0])"
   ]
  },
  {
   "cell_type": "code",
   "execution_count": null,
   "metadata": {},
   "outputs": [],
   "source": [
    "type(df.Gatos_o_perros.astype(int)[0])"
   ]
  },
  {
   "cell_type": "code",
   "execution_count": null,
   "metadata": {},
   "outputs": [],
   "source": [
    "df.Gatos_o_perros = df.Gatos_o_perros.astype(int)\n",
    "df.Edad = df.Edad.astype(int)"
   ]
  },
  {
   "cell_type": "code",
   "execution_count": null,
   "metadata": {},
   "outputs": [],
   "source": [
    "df.dtypes"
   ]
  },
  {
   "cell_type": "markdown",
   "metadata": {},
   "source": [
    "## Análisis básicos sobre DataFrames"
   ]
  },
  {
   "cell_type": "code",
   "execution_count": null,
   "metadata": {},
   "outputs": [],
   "source": [
    "pivot = df.pivot_table(columns = \"Universidad\", index = \"Juega_deporte\", values = \"Gatos_o_perros\")\n",
    "pivot"
   ]
  },
  {
   "cell_type": "code",
   "execution_count": null,
   "metadata": {},
   "outputs": [],
   "source": [
    "pivot.mean() # Ya veremos más adelante sobre cómo calcular más estadísticos"
   ]
  },
  {
   "cell_type": "code",
   "execution_count": null,
   "metadata": {},
   "outputs": [],
   "source": [
    "pivot.mean(axis = 1)"
   ]
  },
  {
   "cell_type": "code",
   "execution_count": null,
   "metadata": {},
   "outputs": [],
   "source": [
    "from statistics import mean\n",
    "\n",
    "def clasificación(x):\n",
    "    if mean(x) > 0:\n",
    "        return(\"Perros\")\n",
    "    else:\n",
    "        return(\"Gatos\")\n",
    "\n",
    "df.pivot_table(columns = \"Universidad\", index = \"Juega_deporte\", values = \"Gatos_o_perros\", aggfunc = clasificación)"
   ]
  },
  {
   "cell_type": "markdown",
   "metadata": {},
   "source": [
    "## Lectura, escritura de archivos CSV y más análisis"
   ]
  },
  {
   "cell_type": "code",
   "execution_count": null,
   "metadata": {},
   "outputs": [],
   "source": [
    "df.to_csv(\"dataframe_personas.csv\")"
   ]
  },
  {
   "cell_type": "code",
   "execution_count": null,
   "metadata": {},
   "outputs": [],
   "source": [
    "df = pd.read_csv('https://gist.githubusercontent.com/ZeccaLehn/4e06d2575eb9589dbe8c365d61cb056c/raw/64f1660f38ef523b2a1a13be77b002b98665cdfe/mtcars.csv')\n",
    "df.head()"
   ]
  },
  {
   "cell_type": "code",
   "execution_count": null,
   "metadata": {},
   "outputs": [],
   "source": [
    "df.rename(columns={'Unnamed: 0':'marca'}, inplace=True)"
   ]
  },
  {
   "cell_type": "code",
   "execution_count": null,
   "metadata": {},
   "outputs": [],
   "source": [
    "df.head()"
   ]
  },
  {
   "cell_type": "code",
   "execution_count": null,
   "metadata": {},
   "outputs": [],
   "source": [
    "df.mean()"
   ]
  },
  {
   "cell_type": "code",
   "execution_count": null,
   "metadata": {},
   "outputs": [],
   "source": [
    "df.std()"
   ]
  },
  {
   "cell_type": "code",
   "execution_count": null,
   "metadata": {},
   "outputs": [],
   "source": [
    "df.skew()"
   ]
  },
  {
   "cell_type": "code",
   "execution_count": null,
   "metadata": {},
   "outputs": [],
   "source": [
    "df.kurtosis()"
   ]
  },
  {
   "cell_type": "code",
   "execution_count": null,
   "metadata": {},
   "outputs": [],
   "source": [
    "df.info()"
   ]
  },
  {
   "cell_type": "code",
   "execution_count": null,
   "metadata": {},
   "outputs": [],
   "source": [
    "df.describe()"
   ]
  },
  {
   "cell_type": "markdown",
   "metadata": {},
   "source": [
    "Podemos revisar si existen valores faltantes en nuestra data. En este caso no tenemos, pero los comandos para verlo son:"
   ]
  },
  {
   "cell_type": "code",
   "execution_count": null,
   "metadata": {},
   "outputs": [],
   "source": [
    "df.isna().sum()"
   ]
  },
  {
   "cell_type": "markdown",
   "metadata": {},
   "source": [
    "# PyPlot"
   ]
  },
  {
   "cell_type": "markdown",
   "metadata": {},
   "source": [
    "PyPlot es un módulo del paquete MatPlotLib, el cual tiene muchísimas formas de uso y demasiadas funciones y aspectos para mencionarse todos en tan poco tiempo. No obstante, nos enfocaremos en los objetos fundamentales de PyPlot.\n",
    "\n",
    "Esto son:\n",
    "* Figura: La figura es un espacio donde pueden existir ejes y \"artistas\".\n",
    "* Ejes (axes): Es una colección (de dos o más) de direcciones predefinidas llamadas de forma singular como \"eje\", y cada una puede contener otros objetos como etiquetas, ticks, etc.\n",
    "* Eje (axis): Objetos similares a una recta numérica. Contiene ticks y las etiquetas de los ticks.\n",
    "* Artistas: Esto de hecho es una generalización de los tres antreriores, pues la figura, ejes y cada eje son cada uno artistas. Pero existen otros artistas como objetos de texto, objetos Line2D, etc.\n",
    "\n",
    "La siguiente figura ilustra mejor todo\n",
    "\n",
    "![Partes_figure](https://matplotlib.org/3.3.1/_images/anatomy.png)"
   ]
  },
  {
   "cell_type": "code",
   "execution_count": null,
   "metadata": {},
   "outputs": [],
   "source": [
    "import matplotlib.pyplot as plt"
   ]
  },
  {
   "cell_type": "markdown",
   "metadata": {},
   "source": [
    "Comando para crear una figure vacía"
   ]
  },
  {
   "cell_type": "code",
   "execution_count": null,
   "metadata": {},
   "outputs": [],
   "source": [
    "fig = plt.figure() "
   ]
  },
  {
   "cell_type": "markdown",
   "metadata": {},
   "source": [
    "Comando para crear una figura y dentro su único objeto \"ejes\". Note que \"ejes\" es un solo objeto, mientras que \"eje\" es un subobjeto."
   ]
  },
  {
   "cell_type": "code",
   "execution_count": null,
   "metadata": {},
   "outputs": [],
   "source": [
    "fig, ax = plt.subplots()  # Comando para crear una figura y dentro su único objeto \"ejes\". Note que \"ejes\" es un solo objeto, mientras"
   ]
  },
  {
   "cell_type": "code",
   "execution_count": null,
   "metadata": {},
   "outputs": [],
   "source": [
    "fig, axs = plt.subplots(2, 2)"
   ]
  },
  {
   "cell_type": "code",
   "execution_count": null,
   "metadata": {},
   "outputs": [],
   "source": [
    "fig, axs = plt.subplots(2, 3)"
   ]
  },
  {
   "cell_type": "code",
   "execution_count": null,
   "metadata": {},
   "outputs": [],
   "source": [
    "x = np.linspace(0, 2, 100)  # Similar a arange() solamente que arange tiene como argumento el tamaño de paso y este es el número de objetos."
   ]
  },
  {
   "cell_type": "code",
   "execution_count": null,
   "metadata": {},
   "outputs": [],
   "source": [
    "fig, ax = plt.subplots()  # Creamos la figura y un objeto \"ejes\"\n",
    "ax.plot(x, x, label='linear')           # \\\n",
    "ax.plot(x, x**2, label='quadratic')     # |--- Tres objetos line2D sobre el objeto \"ejes\". \n",
    "ax.plot(x, x**3, label='cubic')         # /\n",
    "ax.set_xlabel('x label')  # Agrega un objeto Text ubicado bajo el subobjeto \"eje\" de \"ax\" horizontal \n",
    "ax.set_ylabel('y label')  # Agrega un objeto Text ubicado bajo el subobjeto \"eje\" de \"ax\" vertical \n",
    "ax.set_title(\"Simple Plot\")  # Agrega otro objeto Text para el título\n",
    "ax.legend()  # Agrega un objeto Legend al objeto \"Ejes\"\n",
    "plt.show()"
   ]
  },
  {
   "cell_type": "code",
   "execution_count": null,
   "metadata": {},
   "outputs": [],
   "source": [
    "type(ax.plot(x, x**2, label='quadratic')[0])  # Se debe colocar un indice [0] porque los objetos \"ejes\" vienen siempre en listas\n",
    "                                              # cuando se llaman desde plt.subplots() para contemplar el caso general en que se \n",
    "                                              # creen varios ejes."
   ]
  },
  {
   "cell_type": "code",
   "execution_count": null,
   "metadata": {},
   "outputs": [],
   "source": [
    "# Ejemplo:\n",
    "axs"
   ]
  },
  {
   "cell_type": "markdown",
   "metadata": {},
   "source": [
    "Esto permite en general decidir en qué eje colocar qué gráfico."
   ]
  },
  {
   "cell_type": "code",
   "execution_count": null,
   "metadata": {},
   "outputs": [],
   "source": [
    "type(ax.set_xlabel('x label'))"
   ]
  },
  {
   "cell_type": "code",
   "execution_count": null,
   "metadata": {},
   "outputs": [],
   "source": [
    "type(ax.set_title(\"Simple Plot\"))"
   ]
  },
  {
   "cell_type": "code",
   "execution_count": null,
   "metadata": {},
   "outputs": [],
   "source": [
    "print(ax.set_xlabel('x label'), ax.set_ylabel('y label'), ax.set_title(\"Simple Plot\"))"
   ]
  },
  {
   "cell_type": "code",
   "execution_count": null,
   "metadata": {},
   "outputs": [],
   "source": [
    "type(ax.legend())"
   ]
  },
  {
   "cell_type": "markdown",
   "metadata": {},
   "source": [
    "Esto muestra que matplotlib construye sus gráficos utilizando combinación de objetos de muy bajo nivel (pues incluso estos llamados \"artistas\" tienen todos sus métodos internos con los cuales realizar sin fin de cosas) pero también podemos utilizar la interfaz de mayor nivel para lograr lo mismo"
   ]
  },
  {
   "cell_type": "code",
   "execution_count": null,
   "metadata": {},
   "outputs": [],
   "source": [
    "plt.plot(x, x, label='linear')  \n",
    "plt.plot(x, x**2, label='quadratic') \n",
    "plt.plot(x, x**3, label='cubic')\n",
    "plt.xlabel('x label')\n",
    "plt.ylabel('y label')\n",
    "plt.title(\"Simple Plot\")\n",
    "plt.legend()\n",
    "plt.show()"
   ]
  },
  {
   "cell_type": "code",
   "execution_count": null,
   "metadata": {},
   "outputs": [],
   "source": []
  }
 ],
 "metadata": {
  "kernelspec": {
   "display_name": "Python 3",
   "language": "python",
   "name": "python3"
  },
  "language_info": {
   "codemirror_mode": {
    "name": "ipython",
    "version": 3
   },
   "file_extension": ".py",
   "mimetype": "text/x-python",
   "name": "python",
   "nbconvert_exporter": "python",
   "pygments_lexer": "ipython3",
   "version": "3.7.7"
  },
  "toc-autonumbering": true
 },
 "nbformat": 4,
 "nbformat_minor": 4
}
