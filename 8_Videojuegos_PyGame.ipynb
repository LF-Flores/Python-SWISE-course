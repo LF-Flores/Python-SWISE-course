{
 "cells": [
  {
   "cell_type": "code",
   "execution_count": 1,
   "metadata": {},
   "outputs": [
    {
     "name": "stdout",
     "output_type": "stream",
     "text": [
      "pygame 1.9.6\n",
      "Hello from the pygame community. https://www.pygame.org/contribute.html\n"
     ]
    }
   ],
   "source": [
    "import pygame"
   ]
  },
  {
   "cell_type": "code",
   "execution_count": 7,
   "metadata": {},
   "outputs": [
    {
     "data": {
      "text/plain": [
       "['base',\n",
       " 'bufferproxy',\n",
       " 'cdrom',\n",
       " 'color',\n",
       " 'colordict',\n",
       " 'compat',\n",
       " 'constants',\n",
       " 'cursors',\n",
       " 'display',\n",
       " 'draw',\n",
       " 'encode_file_path',\n",
       " 'encode_string',\n",
       " 'error',\n",
       " 'event',\n",
       " 'fastevent',\n",
       " 'font',\n",
       " 'get_array_interface',\n",
       " 'get_error',\n",
       " 'get_init',\n",
       " 'get_sdl_byteorder',\n",
       " 'get_sdl_version',\n",
       " 'image',\n",
       " 'init',\n",
       " 'joystick',\n",
       " 'key',\n",
       " 'mask',\n",
       " 'math',\n",
       " 'mixer',\n",
       " 'mixer_music',\n",
       " 'mouse',\n",
       " 'movie',\n",
       " 'overlay',\n",
       " 'packager_imports',\n",
       " 'pixelarray',\n",
       " 'pixelcopy',\n",
       " 'quit',\n",
       " 'rect',\n",
       " 'register_quit',\n",
       " 'rev',\n",
       " 'rwobject',\n",
       " 'scrap',\n",
       " 'segfault',\n",
       " 'set_error',\n",
       " 'sndarray',\n",
       " 'sprite',\n",
       " 'surface',\n",
       " 'surfarray',\n",
       " 'sysfont',\n",
       " 'threads',\n",
       " 'time',\n",
       " 'transform',\n",
       " 'ver',\n",
       " 'vernum',\n",
       " 'version',\n",
       " 'warn_unwanted_files']"
      ]
     },
     "execution_count": 7,
     "metadata": {},
     "output_type": "execute_result"
    }
   ],
   "source": [
    "def condicion(func):\n",
    "    result = func[0].isupper() or func.startswith(\"_\")\n",
    "    return(not result)\n",
    "\n",
    "[x for x in dir(pygame) if condicion(x)]"
   ]
  },
  {
   "cell_type": "code",
   "execution_count": 9,
   "metadata": {},
   "outputs": [
    {
     "data": {
      "text/plain": [
       "(6, 0)"
      ]
     },
     "execution_count": 9,
     "metadata": {},
     "output_type": "execute_result"
    }
   ],
   "source": [
    "pygame.init() # Inicializa todos los módulos importados de pygame, en este caso 6."
   ]
  },
  {
   "cell_type": "code",
   "execution_count": 11,
   "metadata": {},
   "outputs": [],
   "source": [
    "screen = pygame.display.set_mode((800, 600))"
   ]
  }
 ],
 "metadata": {
  "kernelspec": {
   "display_name": "Python 3",
   "language": "python",
   "name": "python3"
  },
  "language_info": {
   "codemirror_mode": {
    "name": "ipython",
    "version": 3
   },
   "file_extension": ".py",
   "mimetype": "text/x-python",
   "name": "python",
   "nbconvert_exporter": "python",
   "pygments_lexer": "ipython3",
   "version": "3.7.7"
  }
 },
 "nbformat": 4,
 "nbformat_minor": 4
}
