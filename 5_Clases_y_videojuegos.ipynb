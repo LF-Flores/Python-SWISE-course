{
 "cells": [
  {
   "cell_type": "markdown",
   "metadata": {},
   "source": [
    "# Planteamiento del proyecto"
   ]
  },
  {
   "cell_type": "markdown",
   "metadata": {},
   "source": [
    "## Descripción general y posibles estructuras"
   ]
  },
  {
   "cell_type": "markdown",
   "metadata": {},
   "source": [
    "El proyecto consiste en crear un videojuego, con temática, género y elementos completamente libres mientras cumplan ciertos requisitos básicos para definirse como un juego. En particular, estos requisitos son que tenga:\n",
    "* Al menos un ente que se pueda sin ambigüedad llamar **protagonista** \n",
    "* Definiendo un **estado** como la colección de variables en memoria necesarios para describir todos los entes del juego, se requiere que se tenga un número de estados no idénticos totales mayor que 2 en los el **protagonista** no puede tener los mismos valores en todos. Es decir, el protagonista debe evolucionar en los estados.\n",
    "* Debe existir un objetivo claro a alcanzar, definido en términos de los valores de un número de variables que debe incluir las que definen al **protagonista**. Además, se necesita un estado de pérdida que termine el juego si se alcanza.\n",
    "* Se debe utilizar programación orientada a objetos, pues es la técnica centro de este módulo. Esto implica:\n",
    "  * **Al menos tres** clases distintas, cada una con una responsabilidad distinta y clara. Además, deben contener al menos un método diferente de los métodos dunder, ej. `__init__`\n",
    "  * **Al menos una** clase que herede de otra clase y adicione dos métodos distinto sobre los de su clase padre.\n",
    "  * **Al menos un caso** de sobrecarga de operadores.\n",
    "* Totalmente basado en texto, sin importar paquetes adicionales a: Pandas, Geopandas, Numpy y los incluidos en la base de Python (y paquetes de estética como pprint)."
   ]
  },
  {
   "cell_type": "code",
   "execution_count": null,
   "metadata": {},
   "outputs": [],
   "source": []
  }
 ],
 "metadata": {
  "kernelspec": {
   "display_name": "Python 3",
   "language": "python",
   "name": "python3"
  },
  "language_info": {
   "codemirror_mode": {
    "name": "ipython",
    "version": 3
   },
   "file_extension": ".py",
   "mimetype": "text/x-python",
   "name": "python",
   "nbconvert_exporter": "python",
   "pygments_lexer": "ipython3",
   "version": "3.7.7"
  }
 },
 "nbformat": 4,
 "nbformat_minor": 4
}
