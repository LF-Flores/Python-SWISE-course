{
 "cells": [
  {
   "cell_type": "markdown",
   "metadata": {},
   "source": [
    "# Planteamiento del proyecto"
   ]
  },
  {
   "cell_type": "markdown",
   "metadata": {},
   "source": [
    "## Descripción general y posibles estructuras"
   ]
  },
  {
   "cell_type": "markdown",
   "metadata": {},
   "source": [
    "El proyecto consiste en crear un videojuego, con temática, género y elementos completamente libres mientras cumplan ciertos requisitos básicos para definirse como un juego. En particular, estos requisitos son que tenga:\n",
    "* Al menos un ente que se pueda sin ambigüedad llamar **protagonista** \n",
    "* Definiendo un **estado** como la colección de variables en memoria necesarios para describir todos los entes del juego, se requiere que se tenga un número de estados no idénticos totales mayor que 2 en los el **protagonista** no puede tener los mismos valores en todos. Es decir, el protagonista debe evolucionar en los estados.\n",
    "* Debe existir un objetivo claro a alcanzar, definido en términos de los valores de un número de variables que debe incluir las que definen al **protagonista**. Además, se necesita un estado de pérdida que termine el juego si se alcanza.\n",
    "* Se debe utilizar programación orientada a objetos, pues es la técnica centro de este módulo. Esto implica:\n",
    "  * **Al menos tres** clases distintas, cada una con una responsabilidad distinta y clara. Además, deben contener al menos un método diferente de los métodos dunder, ej. `__init__`\n",
    "  * **Al menos una** clase que herede de otra clase y adicione dos métodos distinto sobre los de su clase padre.\n",
    "  * **Al menos un caso** de sobrecarga de operadores.\n",
    "* Totalmente basado en texto, sin importar paquetes adicionales a: Pandas, Geopandas, Numpy y los incluidos en la base de Python (y paquetes de estética como pprint)."
   ]
  },
  {
   "cell_type": "markdown",
   "metadata": {},
   "source": [
    "# Programación orientada a objetos"
   ]
  },
  {
   "cell_type": "markdown",
   "metadata": {},
   "source": [
    "## Teoría básica de clases y objetos"
   ]
  },
  {
   "cell_type": "markdown",
   "metadata": {},
   "source": [
    "holis"
   ]
  },
  {
   "cell_type": "code",
   "execution_count": 12,
   "metadata": {},
   "outputs": [],
   "source": [
    "class Goomba:\n",
    "    pass"
   ]
  },
  {
   "cell_type": "code",
   "execution_count": 13,
   "metadata": {},
   "outputs": [
    {
     "data": {
      "text/plain": [
       "<__main__.Goomba at 0x7fc712be9590>"
      ]
     },
     "execution_count": 13,
     "metadata": {},
     "output_type": "execute_result"
    }
   ],
   "source": [
    "goomba_común = Goomba()\n",
    "goomba_común"
   ]
  },
  {
   "cell_type": "markdown",
   "metadata": {},
   "source": [
    "A pesar de tener una clase vacía, podemos observar que Python ya define (y técnicamente **hereda**) métodos "
   ]
  },
  {
   "cell_type": "code",
   "execution_count": 14,
   "metadata": {},
   "outputs": [
    {
     "data": {
      "text/plain": [
       "['__class__',\n",
       " '__delattr__',\n",
       " '__dict__',\n",
       " '__dir__',\n",
       " '__doc__',\n",
       " '__eq__',\n",
       " '__format__',\n",
       " '__ge__',\n",
       " '__getattribute__',\n",
       " '__gt__',\n",
       " '__hash__',\n",
       " '__init__',\n",
       " '__init_subclass__',\n",
       " '__le__',\n",
       " '__lt__',\n",
       " '__module__',\n",
       " '__ne__',\n",
       " '__new__',\n",
       " '__reduce__',\n",
       " '__reduce_ex__',\n",
       " '__repr__',\n",
       " '__setattr__',\n",
       " '__sizeof__',\n",
       " '__str__',\n",
       " '__subclasshook__',\n",
       " '__weakref__']"
      ]
     },
     "execution_count": 14,
     "metadata": {},
     "output_type": "execute_result"
    }
   ],
   "source": [
    "dir(goomba_común)"
   ]
  },
  {
   "cell_type": "markdown",
   "metadata": {},
   "source": [
    "`__init__` es un método especial para ejecutar asignaciones u otras funciones al momento de inicializar un objeto/instancia de clase."
   ]
  },
  {
   "cell_type": "code",
   "execution_count": null,
   "metadata": {},
   "outputs": [],
   "source": [
    "class Goomba:\n",
    "    def __init__(self, altura = 1):\n",
    "        self.altura = altura"
   ]
  },
  {
   "cell_type": "code",
   "execution_count": null,
   "metadata": {},
   "outputs": [],
   "source": [
    "goomba_común = Goomba()\n",
    "goomba_común.altura"
   ]
  },
  {
   "cell_type": "code",
   "execution_count": null,
   "metadata": {},
   "outputs": [],
   "source": []
  },
  {
   "cell_type": "code",
   "execution_count": 4,
   "metadata": {},
   "outputs": [],
   "source": [
    "class Goomba:\n",
    "    def __init__(self, altura = 1):\n",
    "        self.altura = altura\n",
    "    \n",
    "    def __add__(self, other):\n",
    "        altura_nueva = self.altura + other.altura\n",
    "        fusion_goombas = Goomba(altura = altura_nueva)\n",
    "        return(fusion_goombas)"
   ]
  },
  {
   "cell_type": "code",
   "execution_count": 5,
   "metadata": {},
   "outputs": [],
   "source": [
    "goomba_común = Goomba()\n",
    "goombella = Goomba(0.8)"
   ]
  },
  {
   "cell_type": "code",
   "execution_count": 6,
   "metadata": {},
   "outputs": [],
   "source": [
    "torre = goomba_común + goombella"
   ]
  },
  {
   "cell_type": "code",
   "execution_count": 10,
   "metadata": {},
   "outputs": [
    {
     "data": {
      "text/plain": [
       "(1.8, <__main__.Goomba at 0x7fc712c61850>)"
      ]
     },
     "execution_count": 10,
     "metadata": {},
     "output_type": "execute_result"
    }
   ],
   "source": [
    "torre.altura, torre"
   ]
  },
  {
   "cell_type": "code",
   "execution_count": null,
   "metadata": {},
   "outputs": [],
   "source": []
  }
 ],
 "metadata": {
  "kernelspec": {
   "display_name": "Python 3",
   "language": "python",
   "name": "python3"
  },
  "language_info": {
   "codemirror_mode": {
    "name": "ipython",
    "version": 3
   },
   "file_extension": ".py",
   "mimetype": "text/x-python",
   "name": "python",
   "nbconvert_exporter": "python",
   "pygments_lexer": "ipython3",
   "version": "3.7.7"
  }
 },
 "nbformat": 4,
 "nbformat_minor": 4
}
