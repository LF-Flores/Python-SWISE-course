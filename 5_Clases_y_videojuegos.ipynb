{
 "cells": [
  {
   "cell_type": "markdown",
   "metadata": {},
   "source": [
    "# Planteamiento del proyecto"
   ]
  },
  {
   "cell_type": "markdown",
   "metadata": {},
   "source": [
    "## Descripción general y posibles estructuras"
   ]
  },
  {
   "cell_type": "markdown",
   "metadata": {},
   "source": [
    "El proyecto consiste en crear un videojuego, con temática, género y elementos completamente libres mientras cumplan ciertos requisitos básicos para definirse como un juego. En particular, estos requisitos son que tenga:\n",
    "* Al menos un ente que se pueda sin ambigüedad llamar **protagonista** \n",
    "* Definiendo un **estado** como la colección de variables en memoria necesarios para describir todos los entes del juego, se requiere que se tenga un número de estados no idénticos totales mayor que 2 en los el **protagonista** no puede tener los mismos valores en todos. Es decir, el protagonista debe evolucionar en los estados.\n",
    "* Debe existir un objetivo claro a alcanzar, definido en términos de los valores de un número de variables que debe incluir las que definen al **protagonista**. Además, se necesita un estado de pérdida que termine el juego si se alcanza.\n",
    "* Se debe utilizar programación orientada a objetos, pues es la técnica centro de este módulo. Esto implica:\n",
    "  * **Al menos tres** clases distintas, cada una con una responsabilidad distinta y clara. Además, deben contener al menos un método diferente de los métodos dunder, ej. `__init__`\n",
    "  * **Al menos una** clase que herede de otra clase y adicione dos métodos distinto sobre los de su clase padre.\n",
    "  * **Al menos un caso** de sobrecarga de operadores.\n",
    "* Totalmente basado en texto, sin importar paquetes adicionales a: Pandas, Geopandas, Numpy y los incluidos en la base de Python (y paquetes de estética como pprint)."
   ]
  },
  {
   "cell_type": "markdown",
   "metadata": {},
   "source": [
    "# Programación orientada a objetos"
   ]
  },
  {
   "cell_type": "markdown",
   "metadata": {},
   "source": [
    "## Clases, objetos y métodos dunder/mágicos"
   ]
  },
  {
   "cell_type": "markdown",
   "metadata": {},
   "source": []
  },
  {
   "cell_type": "code",
   "execution_count": 1,
   "metadata": {},
   "outputs": [],
   "source": [
    "class Goomba:\n",
    "    pass"
   ]
  },
  {
   "cell_type": "code",
   "execution_count": 2,
   "metadata": {},
   "outputs": [
    {
     "data": {
      "text/plain": [
       "<__main__.Goomba at 0x7f08284f3fd0>"
      ]
     },
     "execution_count": 2,
     "metadata": {},
     "output_type": "execute_result"
    }
   ],
   "source": [
    "goomba_común = Goomba()\n",
    "goomba_común"
   ]
  },
  {
   "cell_type": "code",
   "execution_count": 4,
   "metadata": {},
   "outputs": [
    {
     "data": {
      "text/plain": [
       "False"
      ]
     },
     "execution_count": 4,
     "metadata": {},
     "output_type": "execute_result"
    }
   ],
   "source": [
    "goomba_común2 = Goomba()\n",
    "goomba_común2 == goomba_común "
   ]
  },
  {
   "cell_type": "code",
   "execution_count": 5,
   "metadata": {},
   "outputs": [
    {
     "data": {
      "text/plain": [
       "<__main__.Goomba at 0x7f08284f8690>"
      ]
     },
     "execution_count": 5,
     "metadata": {},
     "output_type": "execute_result"
    }
   ],
   "source": [
    "goomba_común2"
   ]
  },
  {
   "cell_type": "markdown",
   "metadata": {},
   "source": [
    "A pesar de tener una clase vacía, podemos observar que Python ya define (y técnicamente **hereda**) métodos "
   ]
  },
  {
   "cell_type": "code",
   "execution_count": 3,
   "metadata": {},
   "outputs": [
    {
     "data": {
      "text/plain": [
       "['__class__',\n",
       " '__delattr__',\n",
       " '__dict__',\n",
       " '__dir__',\n",
       " '__doc__',\n",
       " '__eq__',\n",
       " '__format__',\n",
       " '__ge__',\n",
       " '__getattribute__',\n",
       " '__gt__',\n",
       " '__hash__',\n",
       " '__init__',\n",
       " '__init_subclass__',\n",
       " '__le__',\n",
       " '__lt__',\n",
       " '__module__',\n",
       " '__ne__',\n",
       " '__new__',\n",
       " '__reduce__',\n",
       " '__reduce_ex__',\n",
       " '__repr__',\n",
       " '__setattr__',\n",
       " '__sizeof__',\n",
       " '__str__',\n",
       " '__subclasshook__',\n",
       " '__weakref__']"
      ]
     },
     "execution_count": 3,
     "metadata": {},
     "output_type": "execute_result"
    }
   ],
   "source": [
    "dir(goomba_común)"
   ]
  },
  {
   "cell_type": "code",
   "execution_count": 6,
   "metadata": {},
   "outputs": [
    {
     "name": "stdout",
     "output_type": "stream",
     "text": [
      "Help on Goomba in module __main__ object:\n",
      "\n",
      "class Goomba(builtins.object)\n",
      " |  Data descriptors defined here:\n",
      " |  \n",
      " |  __dict__\n",
      " |      dictionary for instance variables (if defined)\n",
      " |  \n",
      " |  __weakref__\n",
      " |      list of weak references to the object (if defined)\n",
      "\n"
     ]
    }
   ],
   "source": [
    "help(goomba_común)"
   ]
  },
  {
   "cell_type": "code",
   "execution_count": 8,
   "metadata": {},
   "outputs": [
    {
     "data": {
      "text/plain": [
       "{}"
      ]
     },
     "execution_count": 8,
     "metadata": {},
     "output_type": "execute_result"
    }
   ],
   "source": [
    "goomba_común.__dict__"
   ]
  },
  {
   "cell_type": "markdown",
   "metadata": {},
   "source": [
    "`__init__` es un método especial para ejecutar asignaciones u otras funciones al momento de inicializar un objeto/instancia de clase."
   ]
  },
  {
   "cell_type": "code",
   "execution_count": 13,
   "metadata": {},
   "outputs": [],
   "source": [
    "class Goomba:\n",
    "    def __init__(self, altura = 1):\n",
    "        self.altura = altura"
   ]
  },
  {
   "cell_type": "code",
   "execution_count": 15,
   "metadata": {},
   "outputs": [
    {
     "data": {
      "text/plain": [
       "(1, 3)"
      ]
     },
     "execution_count": 15,
     "metadata": {},
     "output_type": "execute_result"
    }
   ],
   "source": [
    "goomba_común = Goomba()\n",
    "goomba_común2 = Goomba(3)\n",
    "goomba_común.altura, goomba_común2.altura"
   ]
  },
  {
   "cell_type": "code",
   "execution_count": 16,
   "metadata": {},
   "outputs": [
    {
     "ename": "TypeError",
     "evalue": "unsupported operand type(s) for +: 'Goomba' and 'Goomba'",
     "output_type": "error",
     "traceback": [
      "\u001b[0;31m---------------------------------------------------------------------------\u001b[0m",
      "\u001b[0;31mTypeError\u001b[0m                                 Traceback (most recent call last)",
      "\u001b[0;32m<ipython-input-16-eb74563065d5>\u001b[0m in \u001b[0;36m<module>\u001b[0;34m\u001b[0m\n\u001b[0;32m----> 1\u001b[0;31m \u001b[0mgoomba_común\u001b[0m \u001b[0;34m+\u001b[0m \u001b[0mgoomba_común2\u001b[0m\u001b[0;34m\u001b[0m\u001b[0;34m\u001b[0m\u001b[0m\n\u001b[0m",
      "\u001b[0;31mTypeError\u001b[0m: unsupported operand type(s) for +: 'Goomba' and 'Goomba'"
     ]
    }
   ],
   "source": [
    "goomba_común + goomba_común2 "
   ]
  },
  {
   "cell_type": "code",
   "execution_count": 17,
   "metadata": {},
   "outputs": [],
   "source": [
    "class Goomba:\n",
    "    def __init__(self, altura = 1):\n",
    "        self.altura = altura\n",
    "    \n",
    "    def __add__(self, other):   # Sobrecarga de operadores, ejemplo __add__ corresponde a + \n",
    "        altura_nueva = self.altura + other.altura\n",
    "        fusion_goombas = Goomba(altura = altura_nueva)\n",
    "        return(fusion_goombas)"
   ]
  },
  {
   "cell_type": "code",
   "execution_count": 18,
   "metadata": {},
   "outputs": [],
   "source": [
    "goomba_común = Goomba()\n",
    "goombella = Goomba(altura = 0.8)"
   ]
  },
  {
   "cell_type": "code",
   "execution_count": 19,
   "metadata": {},
   "outputs": [],
   "source": [
    "torre = goomba_común + goombella"
   ]
  },
  {
   "cell_type": "code",
   "execution_count": 20,
   "metadata": {},
   "outputs": [
    {
     "data": {
      "text/plain": [
       "(1.8, <__main__.Goomba at 0x7f07fc682d50>)"
      ]
     },
     "execution_count": 20,
     "metadata": {},
     "output_type": "execute_result"
    }
   ],
   "source": [
    "torre.altura, torre"
   ]
  },
  {
   "cell_type": "code",
   "execution_count": 22,
   "metadata": {},
   "outputs": [
    {
     "name": "stdout",
     "output_type": "stream",
     "text": [
      "<__main__.Goomba object at 0x7f07fc687d50>\n",
      "5\n"
     ]
    },
    {
     "data": {
      "text/plain": [
       "(None, None)"
      ]
     },
     "execution_count": 22,
     "metadata": {},
     "output_type": "execute_result"
    }
   ],
   "source": [
    "print(goomba_común), print(5)"
   ]
  },
  {
   "cell_type": "code",
   "execution_count": 23,
   "metadata": {},
   "outputs": [],
   "source": [
    "class Goomba:\n",
    "    def __init__(self, altura = 1):\n",
    "        self.altura = altura\n",
    "    \n",
    "    def __add__(self, other):\n",
    "        altura_nueva = self.altura + other.altura\n",
    "        fusion_goombas = Goomba(altura = altura_nueva)\n",
    "        return(fusion_goombas)\n",
    "    \n",
    "    def __str__(self):\n",
    "        return(f\"Un Goomba de altura {self.altura}\")"
   ]
  },
  {
   "cell_type": "code",
   "execution_count": 25,
   "metadata": {},
   "outputs": [
    {
     "name": "stdout",
     "output_type": "stream",
     "text": [
      "Un Goomba de altura 5\n"
     ]
    }
   ],
   "source": [
    "goomba_común = Goomba(altura = 5)\n",
    "print(goomba_común)"
   ]
  },
  {
   "cell_type": "code",
   "execution_count": 28,
   "metadata": {},
   "outputs": [],
   "source": [
    "class Goomba:\n",
    "    def __init__(self, altura = 1):\n",
    "        self.altura = altura\n",
    "    \n",
    "    def __add__(self, other):\n",
    "        altura_nueva = self.altura + other.altura\n",
    "        fusion_goombas = Goomba(altura = altura_nueva)\n",
    "        return(fusion_goombas)\n",
    "    \n",
    "    def __str__(self):\n",
    "        return({\"Specie\": \"Goomba\", \"Altura\": self.altura})"
   ]
  },
  {
   "cell_type": "code",
   "execution_count": 29,
   "metadata": {},
   "outputs": [
    {
     "name": "stdout",
     "output_type": "stream",
     "text": [
      "{\"Specie\": \"Goomba\", \"Altura\": self.altura}\n"
     ]
    }
   ],
   "source": [
    "goomba_común = Goomba()\n",
    "print(goomba_común)"
   ]
  },
  {
   "cell_type": "code",
   "execution_count": 31,
   "metadata": {},
   "outputs": [],
   "source": [
    "class Goomba:\n",
    "    def __init__(self, nombre, altura = 1, goombas_apilados = 1):\n",
    "        self.nombre = nombre\n",
    "        self.altura = altura\n",
    "        self.apilados = goombas_apilados\n",
    "    \n",
    "    def __add__(self, other):\n",
    "        altura_nueva = self.altura + other.altura\n",
    "        nuevos_apilados = self.apilados + other.apilados\n",
    "        fusion_goombas = Goomba(altura = altura_nueva, goombas_apilados = nuevos_apilados)\n",
    "        return(fusion_goombas)\n",
    "    \n",
    "    def __str__(self):\n",
    "        return(f\"Un Goomba de altura {self.altura}\")\n",
    "    \n",
    "    def __len__(self):\n",
    "        return(self.apilados)"
   ]
  },
  {
   "cell_type": "code",
   "execution_count": 34,
   "metadata": {},
   "outputs": [
    {
     "data": {
      "text/plain": [
       "2"
      ]
     },
     "execution_count": 34,
     "metadata": {},
     "output_type": "execute_result"
    }
   ],
   "source": [
    "len(Goomba(\"Mauricio y Vicky\", goombas_apilados = 2))"
   ]
  },
  {
   "cell_type": "code",
   "execution_count": 32,
   "metadata": {},
   "outputs": [
    {
     "data": {
      "text/plain": [
       "[<__main__.Goomba at 0x7f07fc147fd0>,\n",
       " <__main__.Goomba at 0x7f07fc1adad0>,\n",
       " <__main__.Goomba at 0x7f07fc1ad950>]"
      ]
     },
     "execution_count": 32,
     "metadata": {},
     "output_type": "execute_result"
    }
   ],
   "source": [
    "lista_goombas = [Goomba(\"Mauricio\"), Goomba(\"Goombella\", altura = 0.8), Goomba(\"Gloomba\", altura = 1.1)]\n",
    "lista_goombas"
   ]
  },
  {
   "cell_type": "code",
   "execution_count": 35,
   "metadata": {},
   "outputs": [],
   "source": [
    "class Goomba:\n",
    "    def __init__(self, nombre, altura = 1, goombas_apilados = 1):\n",
    "        self.nombre = nombre\n",
    "        self.altura = altura\n",
    "        self.apilados = goombas_apilados\n",
    "    \n",
    "    def __add__(self, other):\n",
    "        altura_nueva = self.altura + other.altura\n",
    "        nuevos_apilados = self.apilados + 1\n",
    "        fusion_goombas = Goomba(altura = altura_nueva, goombas_apilados = nuevos_apilados)\n",
    "        return(fusion_goombas)\n",
    "    \n",
    "    def __str__(self):\n",
    "        return(f\"Un Goomba de altura {self.altura}\")\n",
    "    \n",
    "    def __repr__(self):\n",
    "        return(f\"Un Goomba de altura {self.altura} y nombre {self.nombre}\")\n",
    "    \n",
    "    def __len__(self):\n",
    "        return(self.apilados)"
   ]
  },
  {
   "cell_type": "code",
   "execution_count": 36,
   "metadata": {},
   "outputs": [
    {
     "data": {
      "text/plain": [
       "[Un Goomba de altura 1 y nombre Mauricio,\n",
       " Un Goomba de altura 0.8 y nombre Goombella,\n",
       " Un Goomba de altura 1.1 y nombre Gloomba]"
      ]
     },
     "execution_count": 36,
     "metadata": {},
     "output_type": "execute_result"
    }
   ],
   "source": [
    "lista_goombas = [Goomba(\"Mauricio\"), Goomba(\"Goombella\", altura = 0.8), Goomba(\"Gloomba\", altura = 1.1)]\n",
    "lista_goombas"
   ]
  },
  {
   "cell_type": "code",
   "execution_count": 37,
   "metadata": {},
   "outputs": [
    {
     "data": {
      "text/plain": [
       "(1, 1, 1)"
      ]
     },
     "execution_count": 37,
     "metadata": {},
     "output_type": "execute_result"
    }
   ],
   "source": [
    "len(lista_goombas[0]), len(lista_goombas[1]), len(lista_goombas[2])"
   ]
  },
  {
   "cell_type": "code",
   "execution_count": 39,
   "metadata": {},
   "outputs": [],
   "source": [
    "class Goomba:\n",
    "    def __init__(self, nombre, altura = 1, goombas_apilados = 1):\n",
    "        self.nombre = nombre\n",
    "        self.altura = altura\n",
    "        self.apilados = goombas_apilados\n",
    "    \n",
    "    def __add__(self, other):\n",
    "        altura_nueva = self.altura + other.altura\n",
    "        nuevos_apilados = self.apilados + 1\n",
    "        fusion_goombas = Goomba(nombre = f\"{self.nombre}-{other.nombre}\", \n",
    "                                altura = altura_nueva, \n",
    "                                goombas_apilados = nuevos_apilados)\n",
    "        return(fusion_goombas)\n",
    "    \n",
    "    def __repr__(self):\n",
    "        return(f\"Un Goomba de altura {self.altura:.2f} y nombre {self.nombre}\") # Imprime a 2 cifras decimal\n",
    "    \n",
    "    def __len__(self):\n",
    "        return(self.apilados)\n",
    "    \n",
    "    def __radd__(self, other):\n",
    "        if other == 0:\n",
    "            return(self)\n",
    "        else:\n",
    "            return(self.__add__(other))"
   ]
  },
  {
   "cell_type": "code",
   "execution_count": 40,
   "metadata": {},
   "outputs": [
    {
     "name": "stdout",
     "output_type": "stream",
     "text": [
      "Un Goomba de altura 2.90 y nombre Mauricio-Goombella-Gloomba\n"
     ]
    }
   ],
   "source": [
    "lista_goombas = [Goomba(\"Mauricio\"), Goomba(\"Goombella\", altura = 0.8), Goomba(\"Gloomba\", altura = 1.1)]\n",
    "torre_goombas = sum(lista_goombas) # 0 + goomba1 + goomba2 + ...\n",
    "print(torre_goombas)"
   ]
  },
  {
   "cell_type": "code",
   "execution_count": 41,
   "metadata": {},
   "outputs": [
    {
     "data": {
      "text/plain": [
       "3"
      ]
     },
     "execution_count": 41,
     "metadata": {},
     "output_type": "execute_result"
    }
   ],
   "source": [
    "len(torre_goombas)"
   ]
  },
  {
   "cell_type": "markdown",
   "metadata": {},
   "source": [
    "# Básicos para videojuegos"
   ]
  },
  {
   "cell_type": "markdown",
   "metadata": {},
   "source": [
    "## RPG básico"
   ]
  },
  {
   "cell_type": "code",
   "execution_count": 42,
   "metadata": {},
   "outputs": [],
   "source": [
    "class Personaje:\n",
    "    \"\"\"\n",
    "    Contendrá los métodos y atributos básicos de cualquier personaje del juego, ya sea \n",
    "    de la party permanente o solo un acompañante temporal. Estos son:\n",
    "    \n",
    "    - Estadísticas: HP, MP, STR, MAG, DEF, SPD\n",
    "    - Metadata básica: Nombre, Lvl\n",
    "    \"\"\"\n",
    "    \n",
    "    def __init__(self, nombre, lvl = 1, stats = None, inParty = False):\n",
    "        self.nombre = nombre\n",
    "        self.lvl = lvl\n",
    "        self.stats = {\"HP\": 10, \n",
    "                      \"MP\": 3, \n",
    "                      \"STR\": 1, \n",
    "                      \"MAG\": 1, \n",
    "                      \"DEF\": 1, \n",
    "                      \"SPD\": 1} if stats is None else stats\n",
    "        self.inParty = inParty\n",
    "        self.skills = []"
   ]
  },
  {
   "cell_type": "code",
   "execution_count": 43,
   "metadata": {},
   "outputs": [],
   "source": [
    "p1 = Personaje(\"Raul\")"
   ]
  },
  {
   "cell_type": "code",
   "execution_count": 44,
   "metadata": {},
   "outputs": [
    {
     "data": {
      "text/plain": [
       "{'HP': 10, 'MP': 3, 'STR': 1, 'MAG': 1, 'DEF': 1, 'SPD': 1}"
      ]
     },
     "execution_count": 44,
     "metadata": {},
     "output_type": "execute_result"
    }
   ],
   "source": [
    "p1.stats"
   ]
  },
  {
   "cell_type": "code",
   "execution_count": 45,
   "metadata": {},
   "outputs": [
    {
     "data": {
      "text/plain": [
       "{'HP': 11, 'MP': 3, 'STR': 1, 'MAG': 1, 'DEF': 1, 'SPD': 1}"
      ]
     },
     "execution_count": 45,
     "metadata": {},
     "output_type": "execute_result"
    }
   ],
   "source": [
    "p1.stats[\"HP\"] += 1\n",
    "p1.stats"
   ]
  },
  {
   "cell_type": "code",
   "execution_count": 56,
   "metadata": {},
   "outputs": [],
   "source": [
    "class Personaje:\n",
    "    \"\"\"\n",
    "    Contendrá los métodos y atributos básicos de cualquier personaje del juego, ya sea \n",
    "    de la party permanente o solo un acompañante temporal. Estos son:\n",
    "    \n",
    "    - Estadísticas: HP, MP, STR, MAG, DEF, SPD\n",
    "    - Metadata básica: Nombre, Lvl, pertenencia a la party y otros controladores/flags\n",
    "    - \n",
    "    \"\"\"\n",
    "    \n",
    "    def __init__(self, nombre, lvl = 1, stats = None, inParty = False):\n",
    "        self.nombre = nombre\n",
    "        self.lvl = lvl\n",
    "        self.stats = {\"HP\": 10, \n",
    "                      \"MP\": 3, \n",
    "                      \"STR\": 1, \n",
    "                      \"MAG\": 1, \n",
    "                      \"DEF\": 1, \n",
    "                      \"SPD\": 1} if stats is None else stats\n",
    "        self.inParty = inParty\n",
    "        self.skills = []\n",
    "        \n",
    "    def get_skill(self, skill):\n",
    "        \"\"\"\n",
    "        Requeriremos una clase dedicada a los skills.\n",
    "        \"\"\"\n",
    "        self.skills.append(skill)\n",
    "\n",
    "\n",
    "class Elemento:\n",
    "    \"\"\"\n",
    "    \n",
    "    \"\"\"\n",
    "    \n",
    "    def __init__(self, elemento):\n",
    "        self.elemento = elemento\n",
    "        \n",
    "    def __repr__(self):\n",
    "        return(self.elemento)\n",
    "\n",
    "        \n",
    "class Skill:\n",
    "    \"\"\"\n",
    "    \n",
    "    \"\"\"\n",
    "    \n",
    "    def __init__(self, nombre, elemento = Elemento(None), pasivo = True):\n",
    "        self.nombre = nombre\n",
    "        self.elemento = elemento\n",
    "        self.pasivo = pasivo\n",
    "        \n",
    "    def __repr__(self):\n",
    "        return(f\"{self.nombre}--> elemento: {self.elemento}\")\n",
    "        \n",
    "    def set_damaging_attr(self, damage, num_hits, accuracy = 1):\n",
    "        self.damage = damage\n",
    "        self.num_hits = num_hits\n",
    "        self.accuracy = accuracy\n",
    "        self.pasivo = False\n",
    "        \n",
    "    def set_passive_attr(self, **kwargs):\n",
    "        self.effects = dict()\n",
    "        for key, value in kwargs.items():\n",
    "            self.effects[key] = value\n",
    "        "
   ]
  },
  {
   "cell_type": "code",
   "execution_count": 57,
   "metadata": {},
   "outputs": [
    {
     "data": {
      "text/plain": [
       "[5, 'hello']"
      ]
     },
     "execution_count": 57,
     "metadata": {},
     "output_type": "execute_result"
    }
   ],
   "source": [
    "# Esto es un problema que surge debido a que python no fuerza que las variables tengan tipo.\n",
    "p1 = Personaje(\"Raul\")\n",
    "p1.get_skill(5)\n",
    "p1.get_skill(\"hello\")\n",
    "p1.skills"
   ]
  },
  {
   "cell_type": "code",
   "execution_count": 58,
   "metadata": {},
   "outputs": [],
   "source": [
    "p1 = Personaje(\"Raul\")\n",
    "p1.get_skill(Skill(nombre = \"Flamebringer\", elemento = Elemento(\"Fuego\")))\n",
    "p1.get_skill(Skill(nombre = \"Cure1\", elemento = Elemento(\"Curativo\")))"
   ]
  },
  {
   "cell_type": "code",
   "execution_count": 59,
   "metadata": {},
   "outputs": [
    {
     "data": {
      "text/plain": [
       "[Flamebringer--> elemento: Fuego, Cure1--> elemento: Curativo]"
      ]
     },
     "execution_count": 59,
     "metadata": {},
     "output_type": "execute_result"
    }
   ],
   "source": [
    "p1.skills"
   ]
  },
  {
   "cell_type": "code",
   "execution_count": null,
   "metadata": {},
   "outputs": [],
   "source": []
  },
  {
   "cell_type": "code",
   "execution_count": null,
   "metadata": {},
   "outputs": [],
   "source": []
  }
 ],
 "metadata": {
  "kernelspec": {
   "display_name": "Python 3",
   "language": "python",
   "name": "python3"
  },
  "language_info": {
   "codemirror_mode": {
    "name": "ipython",
    "version": 3
   },
   "file_extension": ".py",
   "mimetype": "text/x-python",
   "name": "python",
   "nbconvert_exporter": "python",
   "pygments_lexer": "ipython3",
   "version": "3.7.7"
  }
 },
 "nbformat": 4,
 "nbformat_minor": 4
}
