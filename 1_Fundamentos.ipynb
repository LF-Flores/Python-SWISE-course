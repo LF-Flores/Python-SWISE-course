{
 "cells": [
  {
   "cell_type": "markdown",
   "metadata": {},
   "source": [
    "# Conceptos básicos y primer proyecto"
   ]
  },
  {
   "cell_type": "markdown",
   "metadata": {},
   "source": [
    "## ¿Qué es Python, de verdad?"
   ]
  },
  {
   "cell_type": "markdown",
   "metadata": {},
   "source": [
    "Un lenguaje de programación es una **herramienta** para llevar a cabo la estructuración de una serie de instrucciones para nuestro computador: Una central de recursos. Es decir, un lenguaje no es nada sin conocer y entender las estructuras de datos en mente, o la forma en que esta comunicación con los recursos ocurre.\n",
    "\n",
    "**Python** es un lenguaje de programación que se puede resumir en las siguientes propiedades o características:\n",
    "\n",
    "* **Interpretado:** En la mayoría de sus *implementaciones* se pueden executar instrucciones de manera \"interactiva\" a tiempo real sin requerir una compilación previa a *bytecode*.\n",
    "* **Tipado Dinámico:** Las variables dentro de Python NO necesitan declararse previamente con un tipo (string, int, float, etc.). Es más, por defecto no es posible atar un tipo a una variable: La misma variable puede reutilizarse con diferentes tipos. El manejo de memoria lo realiza python por sí solo.\n",
    "* **Existencia de un recolector de basura:** Las variables en Python tienen un ciclo de vida natural en el cual pueden ser eliminadas automáticamente según el número de referencias\n",
    "* **Multiparadigma:** Su diseño permite utilizar diferentes *paradigmas de programación* aunque facilita más los paradigmas de: *Programación orientada a objetos* y *programación estruturada*. No obstante, fácilmente se utiliza con *programación funcional* o *programación orientada a aspectos*. \n",
    "* **Fuerte enfoque en legibilidad:** La prioridad al escribir código de python, aparte de que funcione, es que sea claro e inmediato de leer: *Simple es mejor que complejo. Siempre.*\n",
    "* **Mucho más...** Se irá descubriendo."
   ]
  },
  {
   "cell_type": "markdown",
   "metadata": {},
   "source": [
    "## Primer proyecto: Lanzamiento de proyectiles con cinemática"
   ]
  },
  {
   "cell_type": "markdown",
   "metadata": {},
   "source": [
    "**Descripción general de la teoría: Cinemática en 2D**\n",
    "\n",
    "Las leyes del movimiento de Newton permiten predecir el movimiento entero de un cuerpo al que se le conoce las fuerzas que le actúan (recuerden, el famoso $ F = ma $ ). Existe un caso muy especial en el cual la *ÚNICA* fuerza involucrada es constante y en una sola dirección. A esto se le conoce como cinemática y se caracteriza parcialmente por la siguiente ecuación:\n",
    "\n",
    "$$\n",
    "y(t) = y_0 + v_{y_0} t + \\frac{at²}{2}\n",
    "$$\n",
    "\n",
    "Esta ecuación describe la **evolución** de la altura, \"$y$\", de una partícula (por ejemplo, una pelota) en cualquier tiempo $t$ luego de estar en cierto \"estado inicial\" ($y_0$, $v_{y_0}$) en el tiempo $t = 0$. Es decir, lo que sucede cuando lanzan una pelota hacia el cielo (movimiento **meramente horizontal**), subiendo inicialmente, y luego bajando hasta llegar al suelo.\n",
    "\n",
    "Pero... ¿Qué pasa si la pelota no la lanzo hacia el cielo si no que hacia adelante? Entonces existe otra ecuación que describe ese movimiento horizonal:\n",
    "\n",
    "$$\n",
    "x(t) = x_0 + v_{x_0} t\n",
    "$$\n",
    "\n",
    "Notemos que en este caso no tenemos un término de aceleración pues, como ya comentado, la aceleración ocurre **sólo en una dirección** y el eje $y$ fue elegido para concordar con ésta. Para juntar ambas ecuaciones definimos un objeto $\\vec{r}$ como un vector $\\vec{r}(t) = (x(t), y(t))$ en todo tiempo $t$. Es decir, una función vectorial. En este caso, el estado inicial se resume también como vectores:\n",
    "* Posición inicial: $r_0 = (x_0, y_0)$\n",
    "* Velocidad inicial: $v_0 = (v_{x_0}, v_{y_0})$\n",
    "* Estado total inicial: $(r_0, v_0)$\n",
    "\n",
    "\n",
    "**Planteamiento del problema a resolver**\n",
    "\n",
    "A continuación se presentan tres puntos a tratar en el proyecto: El inciso 1 describe algo que es **OBLIGATORIO** que exista en el programa de todos los participantes. El inciso 2 describe una lista de posibles tareas de las cuales cada integrante debe elegir al menos una y programarla (La evaluación va a ser individual aunque pueden compartir ideas entre su propio grupo). Además, pueden añadir a su creatividad tareas similares: La única penintencia es no ser creativos. La creatividad sobresalientee incluso se premiará.\n",
    "\n",
    "El inciso 3 contiene una lista de problemas retadores completamente OPCIONALES pero los grupos que logren hacer al menos alguno de ellos serán recompensados con mayor peso de votación en decidir el proyecto final. \n",
    "\n",
    "1. Cree funciones para todos los objetos fundamentales: $x(t)$, $y(t)$, $\\vec{r}(t)$.\n",
    "2. Crear alguna función que responda una o más de preguntas como las siguientes (al menos una por integrante):\n",
    "   * ¿En qué tiempo $t$ una pelota (definida por su estado inicial $(r_0, v_0)$) cae al suelo? ¿Qué tal si lo que queremos es que caiga sobre una repisa de altura $h$?\n",
    "   * Escriba una función que calcule la velocidad del proyectil en todo tiempo y devuelva el porcentaje que esa velocidad representa respecto a la velocidad inicial $v_0$.\n",
    "   * ¿Cuál es la altura máxima que alcanza la pelota? ¿En qué tiempo la alcanzó?\n",
    "   * ¿A qué ángulo $\\theta$ debemos colocar el cañón (situado en el origen $(0,0)$) para que la bala destruya el castillo enemigo en un punto $(p_x, p_y)$ y dimensiones $h \\times w$?\n",
    "   * Si un jugador de baseball quiere agarrar la pelota antes de que caiga al suelo ¿Cuándo debe empezar a correr? Asumiendo que comienza en el suelo, unos $m$ metros adelante de la pelota, y quieto. Es decir: $r_0 = (x_0 + m, 0)$ y $v_0 = (0,0)$.\n",
    "   * ¿Qué pasa si la aceleración ahora cambia en el tiempo, $a(t)$? Por ejemplo, en algún marco de referencia mientras un acensor de mueve.\n",
    "   * Si conoce el punto y tiempo de disparo del proyectil y punto y tiempo de caída al suelo, ¿Puede encontrar la velocidad inicial $v_0 = (v_{x_0}, v_{y_0})$ con la cual fue disparado? Si es así, programelo. Si no, indique lo que hace falta, y utilícelo para un programa que lo calcule.\n",
    "   * Si la gravedad no estuviese alineada con el eje $y$, si no que en cualquier otra dirección, calcule la trayectoria.\n",
    "   * Cualquier otra aplicación suficientemente creativa...\n",
    "3. **Challenge problems:** Los integrantes del grupo que presenten la mejor solución a alguno de estos problemas ganará un punto más en su votación hacia el tercer proyecto. \"Resolver el problema\" significa crear un programa .py o un Jupyter notebook que muestre la solución a alguno de los siguientes problemas:\n",
    "   * (**MATEMÁTICAS**) El ángulo al cual un cañón puede disparar en contra de una fortaleza a una distancia de $m$ metros oscila entre $0$ y $\\pi/2$ radianes. Imagine que el cañón dispara aleatoriamente acorde a una distribución normal (con media $\\mu$ y desviación estándar $\\sigma$ ingresadas por el usuario) truncada al intervalo $[0, \\pi/2]$ (ver [este post][1]). \n",
    "     ¿Cuál es la altura $h$ óptima a la cual usted debe colocarse en la fortaleza para minizar la probabilidad de ser golpeado? ¿Hay varias soluciones $h$? ¿Bajo qué condiciones?\n",
    "     \n",
    "   * (**COMPUTACIÓN**) Un vecino de su cuadra se ha inventado un cohete espacial que parece desafiar las leyes de la física. Este cohete se dispara como un proyectil (con trayectoria $r_1(t)$) desde el suelo con alguna velocidad inicial, pero luego de cierto tiempo $t_1$ de estar volando, se abre y dispara un segundo cohete más pequeño, al cual comienza a volar como proyectil como si su suelo fuese el punto $r_1(t_1)$. \n",
    "     \n",
    "     Este segundo proyectil, con trayectoria $r_2(t)$ vuela de nuevo hasta un tiempo $t_2 > t_1$ y deja salir un tercer cohete. Esto se repite $n$ veces con $n$ ingresado por el usuario. Programe una función recursiva que devuelva la posición del último cohete en cualquier tiempo $t$ y describa su complejidad algorítmica $\\mathcal{O}(f(n))$.\n",
    "     \n",
    "   * (**MATEMÁTICAS**) Imagine que le dan una trayectoria fija $r_1(t) = (x_1(t), y_1(t))$ de un proyectil y una altura fija $y_{\\text{fija}}$. Construya una función que devuelva otra trayectoria $r_2(t)$ con distancia horizontal inicial $x_0 = x_1(0)$ y altura inicial $y_{\\text{fija}}$ tal que exista un tiempo $t_{\\text{col}}$ en que ambos proyectiles colisionen.\n",
    "   \n",
    "   * (**FÍSICA**) Programe su tarea selecta del inciso 2 utilizando arrástre lineal y cuadrático y en n dimensiones, con n ingresado por el usuario.\n",
    "   \n",
    "   \n",
    "\n",
    "\n",
    "[1]: https://en.wikipedia.org/wiki/Truncated_normal_distribution#Definitions"
   ]
  },
  {
   "cell_type": "markdown",
   "metadata": {},
   "source": [
    "# Variables y operaciones básicas matemáticas"
   ]
  },
  {
   "cell_type": "markdown",
   "metadata": {},
   "source": [
    "## Aritmética"
   ]
  },
  {
   "cell_type": "code",
   "execution_count": 2,
   "metadata": {},
   "outputs": [
    {
     "data": {
      "text/plain": [
       "11"
      ]
     },
     "execution_count": 2,
     "metadata": {},
     "output_type": "execute_result"
    }
   ],
   "source": [
    "5+6  # Suma"
   ]
  },
  {
   "cell_type": "code",
   "execution_count": 3,
   "metadata": {},
   "outputs": [
    {
     "data": {
      "text/plain": [
       "12"
      ]
     },
     "execution_count": 3,
     "metadata": {},
     "output_type": "execute_result"
    }
   ],
   "source": [
    "4*3 # Producto"
   ]
  },
  {
   "cell_type": "code",
   "execution_count": 4,
   "metadata": {},
   "outputs": [
    {
     "data": {
      "text/plain": [
       "16"
      ]
     },
     "execution_count": 4,
     "metadata": {},
     "output_type": "execute_result"
    }
   ],
   "source": [
    "4**2 # Potencia 4^2"
   ]
  },
  {
   "cell_type": "code",
   "execution_count": 5,
   "metadata": {},
   "outputs": [
    {
     "data": {
      "text/plain": [
       "6"
      ]
     },
     "execution_count": 5,
     "metadata": {},
     "output_type": "execute_result"
    }
   ],
   "source": [
    "4^2 # XOR. Utiliza la repesentación de bits de sus argumentos (4 = 100, 2 = 010) y devuelve su \"o exclusivo\": 110 = 6"
   ]
  },
  {
   "cell_type": "code",
   "execution_count": 6,
   "metadata": {},
   "outputs": [
    {
     "data": {
      "text/plain": [
       "('0b100', '0b10', '0b110')"
      ]
     },
     "execution_count": 6,
     "metadata": {},
     "output_type": "execute_result"
    }
   ],
   "source": [
    "bin(4), bin(2), bin(6)"
   ]
  },
  {
   "cell_type": "code",
   "execution_count": 7,
   "metadata": {},
   "outputs": [
    {
     "data": {
      "text/plain": [
       "1.75"
      ]
     },
     "execution_count": 7,
     "metadata": {},
     "output_type": "execute_result"
    }
   ],
   "source": [
    "7/4 # División"
   ]
  },
  {
   "cell_type": "code",
   "execution_count": 8,
   "metadata": {},
   "outputs": [
    {
     "data": {
      "text/plain": [
       "1"
      ]
     },
     "execution_count": 8,
     "metadata": {},
     "output_type": "execute_result"
    }
   ],
   "source": [
    "7//4 # Floor division (división suelo)"
   ]
  },
  {
   "cell_type": "code",
   "execution_count": 9,
   "metadata": {},
   "outputs": [
    {
     "data": {
      "text/plain": [
       "2"
      ]
     },
     "execution_count": 9,
     "metadata": {},
     "output_type": "execute_result"
    }
   ],
   "source": [
    "-(-7//4) # Cieling division (división techo)"
   ]
  },
  {
   "cell_type": "code",
   "execution_count": 11,
   "metadata": {},
   "outputs": [
    {
     "data": {
      "text/plain": [
       "3"
      ]
     },
     "execution_count": 11,
     "metadata": {},
     "output_type": "execute_result"
    }
   ],
   "source": [
    "567%4 # Módulo o residuo"
   ]
  },
  {
   "cell_type": "code",
   "execution_count": 12,
   "metadata": {},
   "outputs": [
    {
     "data": {
      "text/plain": [
       "'Hello uwuHello uwuHello uwuHello uwu'"
      ]
     },
     "execution_count": 12,
     "metadata": {},
     "output_type": "execute_result"
    }
   ],
   "source": [
    "\"Hello uwu\"*4 "
   ]
  },
  {
   "cell_type": "code",
   "execution_count": 14,
   "metadata": {},
   "outputs": [
    {
     "data": {
      "text/plain": [
       "'Hellollollollollollo'"
      ]
     },
     "execution_count": 14,
     "metadata": {},
     "output_type": "execute_result"
    }
   ],
   "source": [
    "\"He\" + \"llo\"*6"
   ]
  },
  {
   "cell_type": "code",
   "execution_count": 18,
   "metadata": {},
   "outputs": [
    {
     "data": {
      "text/plain": [
       "'Donde está el dinero.'"
      ]
     },
     "execution_count": 18,
     "metadata": {},
     "output_type": "execute_result"
    }
   ],
   "source": [
    "\"Donde \" + \"está \" + \"el \" + \"dinero.\""
   ]
  },
  {
   "cell_type": "markdown",
   "metadata": {},
   "source": [
    "## Variables"
   ]
  },
  {
   "cell_type": "code",
   "execution_count": 20,
   "metadata": {},
   "outputs": [
    {
     "name": "stdout",
     "output_type": "stream",
     "text": [
      "4\n"
     ]
    }
   ],
   "source": [
    "x = 4\n",
    "print(x)"
   ]
  },
  {
   "cell_type": "code",
   "execution_count": 21,
   "metadata": {},
   "outputs": [
    {
     "data": {
      "text/plain": [
       "'hola'"
      ]
     },
     "execution_count": 21,
     "metadata": {},
     "output_type": "execute_result"
    }
   ],
   "source": [
    "x = \"hola\"\n",
    "x"
   ]
  },
  {
   "cell_type": "code",
   "execution_count": 26,
   "metadata": {},
   "outputs": [
    {
     "data": {
      "text/plain": [
       "False"
      ]
     },
     "execution_count": 26,
     "metadata": {},
     "output_type": "execute_result"
    }
   ],
   "source": [
    "y = 'hola'\n",
    "x = \"hola\"  # El igual es para asignación\n",
    "x == y      # El doble igual es para comparación"
   ]
  },
  {
   "cell_type": "code",
   "execution_count": 30,
   "metadata": {},
   "outputs": [
    {
     "data": {
      "text/plain": [
       "'Esto es llamado un f-string, contiene el valor de x = hola3'"
      ]
     },
     "execution_count": 30,
     "metadata": {},
     "output_type": "execute_result"
    }
   ],
   "source": [
    "f\"Esto es llamado un f-string, contiene el valor de x = {x}\""
   ]
  },
  {
   "cell_type": "code",
   "execution_count": 32,
   "metadata": {},
   "outputs": [
    {
     "data": {
      "text/plain": [
       "'Tenemos a un estudiante llamado Pancracio con número de cuenta 200810310356'"
      ]
     },
     "execution_count": 32,
     "metadata": {},
     "output_type": "execute_result"
    }
   ],
   "source": [
    "nombre_estudiante = \"Pancracio\"\n",
    "num_cuenta = 200810310356\n",
    "f\"Tenemos a un estudiante llamado {nombre_estudiante} con número de cuenta {num_cuenta}\""
   ]
  },
  {
   "cell_type": "code",
   "execution_count": 38,
   "metadata": {},
   "outputs": [
    {
     "data": {
      "text/plain": [
       "(str, int, float, str, bool)"
      ]
     },
     "execution_count": 38,
     "metadata": {},
     "output_type": "execute_result"
    }
   ],
   "source": [
    "type(\"hola\"), type(3), type(3.0), type(f\"{x}\"), type(x == y)  # Tipos de variables / estructuras de datos"
   ]
  },
  {
   "cell_type": "code",
   "execution_count": 34,
   "metadata": {},
   "outputs": [
    {
     "name": "stdin",
     "output_type": "stream",
     "text": [
      "Ingresa un número entero:  6\n"
     ]
    },
    {
     "ename": "TypeError",
     "evalue": "can only concatenate str (not \"int\") to str",
     "output_type": "error",
     "traceback": [
      "\u001b[0;31m---------------------------------------------------------------------------\u001b[0m",
      "\u001b[0;31mTypeError\u001b[0m                                 Traceback (most recent call last)",
      "\u001b[0;32m<ipython-input-34-362f3bd21020>\u001b[0m in \u001b[0;36m<module>\u001b[0;34m\u001b[0m\n\u001b[1;32m      1\u001b[0m \u001b[0ma\u001b[0m \u001b[0;34m=\u001b[0m \u001b[0minput\u001b[0m\u001b[0;34m(\u001b[0m\u001b[0;34m\"Ingresa un número entero: \"\u001b[0m\u001b[0;34m)\u001b[0m\u001b[0;34m\u001b[0m\u001b[0;34m\u001b[0m\u001b[0m\n\u001b[0;32m----> 2\u001b[0;31m \u001b[0mprint\u001b[0m\u001b[0;34m(\u001b[0m\u001b[0ma\u001b[0m \u001b[0;34m+\u001b[0m \u001b[0;36m5\u001b[0m\u001b[0;34m)\u001b[0m\u001b[0;34m\u001b[0m\u001b[0;34m\u001b[0m\u001b[0m\n\u001b[0m",
      "\u001b[0;31mTypeError\u001b[0m: can only concatenate str (not \"int\") to str"
     ]
    }
   ],
   "source": [
    "a = input(\"Ingresa un número entero: \")\n",
    "print(a + 5)"
   ]
  },
  {
   "cell_type": "code",
   "execution_count": 37,
   "metadata": {},
   "outputs": [
    {
     "name": "stdin",
     "output_type": "stream",
     "text": [
      "Enter a positive integer:  6\n"
     ]
    },
    {
     "name": "stdout",
     "output_type": "stream",
     "text": [
      "11\n"
     ]
    }
   ],
   "source": [
    "a = int(input(\"Enter a positive integer: \"))\n",
    "print(a + 5)"
   ]
  },
  {
   "cell_type": "markdown",
   "metadata": {},
   "source": [
    "# Condicionales y booleanos"
   ]
  },
  {
   "cell_type": "markdown",
   "metadata": {},
   "source": [
    "## Booleanos y sus operaciones"
   ]
  },
  {
   "cell_type": "code",
   "execution_count": 39,
   "metadata": {},
   "outputs": [
    {
     "data": {
      "text/plain": [
       "(bool, bool)"
      ]
     },
     "execution_count": 39,
     "metadata": {},
     "output_type": "execute_result"
    }
   ],
   "source": [
    "type(True), type(False)"
   ]
  },
  {
   "cell_type": "code",
   "execution_count": 40,
   "metadata": {},
   "outputs": [
    {
     "data": {
      "text/plain": [
       "(False, False, True, False, True)"
      ]
     },
     "execution_count": 40,
     "metadata": {},
     "output_type": "execute_result"
    }
   ],
   "source": [
    "5 > 5, 1 == 2, 3 >= 3, 5 < 1, 10 != 2"
   ]
  },
  {
   "cell_type": "code",
   "execution_count": 42,
   "metadata": {},
   "outputs": [
    {
     "name": "stdin",
     "output_type": "stream",
     "text": [
      "Introduzca su edad: 1025345\n"
     ]
    },
    {
     "data": {
      "text/plain": [
       "True"
      ]
     },
     "execution_count": 42,
     "metadata": {},
     "output_type": "execute_result"
    }
   ],
   "source": [
    "edad = int(input(\"Introduzca su edad:\"))\n",
    "edad >= 18"
   ]
  },
  {
   "cell_type": "code",
   "execution_count": 45,
   "metadata": {},
   "outputs": [
    {
     "data": {
      "text/plain": [
       "(2, 0, 0.0)"
      ]
     },
     "execution_count": 45,
     "metadata": {},
     "output_type": "execute_result"
    }
   ],
   "source": [
    "# Aritmética con booleanos\n",
    "True + True, True - True, False/True"
   ]
  },
  {
   "cell_type": "code",
   "execution_count": 46,
   "metadata": {},
   "outputs": [
    {
     "data": {
      "text/plain": [
       "(False, True, False, True)"
      ]
     },
     "execution_count": 46,
     "metadata": {},
     "output_type": "execute_result"
    }
   ],
   "source": [
    "# Comando \"is\" para verificar igualdad.\n",
    "True is 1, True is bool(1), False is 0, False is bool(0)"
   ]
  },
  {
   "cell_type": "code",
   "execution_count": 49,
   "metadata": {},
   "outputs": [
    {
     "data": {
      "text/plain": [
       "(True, False, False, True)"
      ]
     },
     "execution_count": 49,
     "metadata": {},
     "output_type": "execute_result"
    }
   ],
   "source": [
    "bool(1), bool([]), bool({}), bool([2,2,5])"
   ]
  },
  {
   "cell_type": "code",
   "execution_count": 51,
   "metadata": {},
   "outputs": [
    {
     "data": {
      "text/plain": [
       "(True, False)"
      ]
     },
     "execution_count": 51,
     "metadata": {},
     "output_type": "execute_result"
    }
   ],
   "source": [
    "# Operador \"not\"\n",
    "not False, not True"
   ]
  },
  {
   "cell_type": "code",
   "execution_count": 54,
   "metadata": {},
   "outputs": [
    {
     "data": {
      "text/plain": [
       "(False, True, False)"
      ]
     },
     "execution_count": 54,
     "metadata": {},
     "output_type": "execute_result"
    }
   ],
   "source": [
    "# Operadores binarios\n",
    "False and True, True or False, True ^ True"
   ]
  },
  {
   "cell_type": "markdown",
   "metadata": {},
   "source": [
    "Los operadores como `^` son conocidos como \"operaciones por bit\" y existen otros, como:"
   ]
  },
  {
   "cell_type": "code",
   "execution_count": 55,
   "metadata": {},
   "outputs": [
    {
     "data": {
      "text/plain": [
       "2"
      ]
     },
     "execution_count": 55,
     "metadata": {},
     "output_type": "execute_result"
    }
   ],
   "source": [
    "6 & 3   # 110 and 011 = 010 = 2"
   ]
  },
  {
   "cell_type": "code",
   "execution_count": 56,
   "metadata": {},
   "outputs": [
    {
     "data": {
      "text/plain": [
       "14"
      ]
     },
     "execution_count": 56,
     "metadata": {},
     "output_type": "execute_result"
    }
   ],
   "source": [
    "10 | 12  # 1010 or 1100 = 1110 = 8 + 4 + 2 = 14"
   ]
  },
  {
   "cell_type": "code",
   "execution_count": 57,
   "metadata": {},
   "outputs": [
    {
     "data": {
      "text/plain": [
       "20"
      ]
     },
     "execution_count": 57,
     "metadata": {},
     "output_type": "execute_result"
    }
   ],
   "source": [
    "# bits << # de digitos a mover\n",
    "10 << 1  # 1010 --> 10100 = 16 + 4 = 20 (mover a la izquierda)"
   ]
  },
  {
   "cell_type": "code",
   "execution_count": 58,
   "metadata": {},
   "outputs": [
    {
     "data": {
      "text/plain": [
       "3"
      ]
     },
     "execution_count": 58,
     "metadata": {},
     "output_type": "execute_result"
    }
   ],
   "source": [
    "12 >> 2  # 1100 --> 0110 --> 0011  = 3 (mover a la izquierda dos posiciones)"
   ]
  },
  {
   "cell_type": "markdown",
   "metadata": {},
   "source": [
    "## Condicionales"
   ]
  },
  {
   "cell_type": "code",
   "execution_count": 61,
   "metadata": {},
   "outputs": [],
   "source": [
    "x = 4   # x = 6\n",
    "if x > 5:\n",
    "    print(\"La condición se cumplió\")"
   ]
  },
  {
   "cell_type": "code",
   "execution_count": 64,
   "metadata": {},
   "outputs": [
    {
     "name": "stdout",
     "output_type": "stream",
     "text": [
      "La división entre cero no es posible\n"
     ]
    }
   ],
   "source": [
    "x = 0  \n",
    "if x != 0:\n",
    "    print(10/x)\n",
    "else:\n",
    "    print(\"La división entre cero no es posible\")"
   ]
  },
  {
   "cell_type": "markdown",
   "metadata": {},
   "source": [
    "Notemos la \"indentación\" en las lineas dentro del `if`. Esta es la forma en la que Python maneja los \"inicio\" y \"final\" de un boque de código."
   ]
  },
  {
   "cell_type": "code",
   "execution_count": 65,
   "metadata": {},
   "outputs": [
    {
     "name": "stdout",
     "output_type": "stream",
     "text": [
      "segundo if\n"
     ]
    }
   ],
   "source": [
    "x = 1\n",
    "if x < 1:\n",
    "    print(\"primer if\")\n",
    "elif x < 2:\n",
    "    print(\"segundo if\")\n",
    "elif x < 3:\n",
    "    print(\"tercer if\")\n",
    "else:\n",
    "    print(\"cuarto if\")"
   ]
  },
  {
   "cell_type": "markdown",
   "metadata": {},
   "source": [
    "## Asignación condicionada"
   ]
  },
  {
   "cell_type": "code",
   "execution_count": 67,
   "metadata": {},
   "outputs": [
    {
     "data": {
      "text/plain": [
       "10"
      ]
     },
     "execution_count": 67,
     "metadata": {},
     "output_type": "execute_result"
    }
   ],
   "source": [
    "x = 10 if 11 > 10 else 4\n",
    "x"
   ]
  },
  {
   "cell_type": "code",
   "execution_count": 69,
   "metadata": {},
   "outputs": [
    {
     "data": {
      "text/plain": [
       "'Señor'"
      ]
     },
     "execution_count": 69,
     "metadata": {},
     "output_type": "execute_result"
    }
   ],
   "source": [
    "edad = 52\n",
    "prefijo = \"Señor\" if edad > 30 else \"Joven\"\n",
    "prefijo"
   ]
  },
  {
   "cell_type": "code",
   "execution_count": 71,
   "metadata": {},
   "outputs": [
    {
     "data": {
      "text/plain": [
       "'Al día'"
      ]
     },
     "execution_count": 71,
     "metadata": {},
     "output_type": "execute_result"
    }
   ],
   "source": [
    "pagado = True   # pagado = True\n",
    "saldo = \"Al día\" if pagado else \"Pendiente\"\n",
    "saldo"
   ]
  },
  {
   "cell_type": "markdown",
   "metadata": {},
   "source": [
    "# Try-exceptions"
   ]
  },
  {
   "cell_type": "markdown",
   "metadata": {},
   "source": [
    "\"Es más fácil pedir perdón que pedir permiso\""
   ]
  },
  {
   "cell_type": "code",
   "execution_count": 73,
   "metadata": {},
   "outputs": [
    {
     "name": "stdout",
     "output_type": "stream",
     "text": [
      "holi entré al bloque\n",
      "La división por cero no es posible\n"
     ]
    }
   ],
   "source": [
    "x = 0\n",
    "try:\n",
    "    print(\"holi entré al bloque\")\n",
    "    print(10/x)\n",
    "except:\n",
    "    print(\"La división por cero no es posible\")"
   ]
  },
  {
   "cell_type": "code",
   "execution_count": 74,
   "metadata": {},
   "outputs": [
    {
     "ename": "Exception",
     "evalue": "La división por cero no es posible",
     "output_type": "error",
     "traceback": [
      "\u001b[0;31m---------------------------------------------------------------------------\u001b[0m",
      "\u001b[0;31mZeroDivisionError\u001b[0m                         Traceback (most recent call last)",
      "\u001b[0;32m<ipython-input-74-425d89200d6f>\u001b[0m in \u001b[0;36m<module>\u001b[0;34m\u001b[0m\n\u001b[1;32m      2\u001b[0m \u001b[0;32mtry\u001b[0m\u001b[0;34m:\u001b[0m\u001b[0;34m\u001b[0m\u001b[0;34m\u001b[0m\u001b[0m\n\u001b[0;32m----> 3\u001b[0;31m     \u001b[0mprint\u001b[0m\u001b[0;34m(\u001b[0m\u001b[0;36m10\u001b[0m\u001b[0;34m/\u001b[0m\u001b[0mx\u001b[0m\u001b[0;34m)\u001b[0m\u001b[0;34m\u001b[0m\u001b[0;34m\u001b[0m\u001b[0m\n\u001b[0m\u001b[1;32m      4\u001b[0m \u001b[0;32mexcept\u001b[0m\u001b[0;34m:\u001b[0m\u001b[0;34m\u001b[0m\u001b[0;34m\u001b[0m\u001b[0m\n",
      "\u001b[0;31mZeroDivisionError\u001b[0m: division by zero",
      "\nDuring handling of the above exception, another exception occurred:\n",
      "\u001b[0;31mException\u001b[0m                                 Traceback (most recent call last)",
      "\u001b[0;32m<ipython-input-74-425d89200d6f>\u001b[0m in \u001b[0;36m<module>\u001b[0;34m\u001b[0m\n\u001b[1;32m      3\u001b[0m     \u001b[0mprint\u001b[0m\u001b[0;34m(\u001b[0m\u001b[0;36m10\u001b[0m\u001b[0;34m/\u001b[0m\u001b[0mx\u001b[0m\u001b[0;34m)\u001b[0m\u001b[0;34m\u001b[0m\u001b[0;34m\u001b[0m\u001b[0m\n\u001b[1;32m      4\u001b[0m \u001b[0;32mexcept\u001b[0m\u001b[0;34m:\u001b[0m\u001b[0;34m\u001b[0m\u001b[0;34m\u001b[0m\u001b[0m\n\u001b[0;32m----> 5\u001b[0;31m     \u001b[0;32mraise\u001b[0m \u001b[0mException\u001b[0m\u001b[0;34m(\u001b[0m\u001b[0;34m\"La división por cero no es posible\"\u001b[0m\u001b[0;34m)\u001b[0m\u001b[0;34m\u001b[0m\u001b[0;34m\u001b[0m\u001b[0m\n\u001b[0m",
      "\u001b[0;31mException\u001b[0m: La división por cero no es posible"
     ]
    }
   ],
   "source": [
    "x = 0\n",
    "try:\n",
    "    print(10/x)\n",
    "except:\n",
    "    raise Exception(\"La división por cero no es posible\")"
   ]
  },
  {
   "cell_type": "code",
   "execution_count": null,
   "metadata": {},
   "outputs": [],
   "source": [
    "try:\n",
    "    # Intentar primero algo que puede fallar de múltiples maneras\n",
    "    pass\n",
    "\n",
    "except ValueError:\n",
    "   # Maneja el tipo de excepción \"ValueError\"\n",
    "    pass\n",
    "\n",
    "except (TypeError, ZeroDivisionError):\n",
    "   # Maneja múltiples tipos de excepción\n",
    "    pass\n",
    "\n",
    "except:\n",
    "   # Maneja cualquier otro tipo de excepción\n",
    "   pass"
   ]
  },
  {
   "cell_type": "markdown",
   "metadata": {},
   "source": [
    "Una lista completa de las exceptions disponibles por defecto en Python se puede encontrar en [este post][2]\n",
    "\n",
    "[2]: https://docs.python.org/3/library/exceptions.html"
   ]
  },
  {
   "cell_type": "code",
   "execution_count": 77,
   "metadata": {},
   "outputs": [
    {
     "name": "stdin",
     "output_type": "stream",
     "text": [
      "Ingrese un número:  4\n"
     ]
    },
    {
     "name": "stdout",
     "output_type": "stream",
     "text": [
      "0.25\n"
     ]
    }
   ],
   "source": [
    "# Especialmente útil cuando necesitamos interactuar con el usuario. Esto no fácil con un if.\n",
    "try:\n",
    "    num = int(input(\"Ingrese un número: \"))\n",
    "    assert num % 2 == 0      # assert declara una expresión como True. Si no lo es, retorna un error\n",
    "except:\n",
    "    print(\"¡No es un número par!\")\n",
    "else:                        # El \"else\" se ejecutará solamente si el \"try\" fue exitoso\n",
    "    reciprocal = 1/num\n",
    "    print(reciprocal)"
   ]
  },
  {
   "cell_type": "code",
   "execution_count": null,
   "metadata": {},
   "outputs": [],
   "source": [
    "# Aun no se podrá correr. Veremos manejo de archivos más adelante.\n",
    "try:\n",
    "   f = open(\"test.txt\", encoding = 'utf-8')\n",
    "   print(f)\n",
    "finally:\n",
    "   f.close()"
   ]
  },
  {
   "cell_type": "markdown",
   "metadata": {},
   "source": [
    "# Funciones"
   ]
  },
  {
   "cell_type": "markdown",
   "metadata": {},
   "source": [
    "Para empaquetar los procesos aprendidos anteriormente en un solo comando que cumpla con alguna funcionalidad que deseemos podemos utilizar **funciones**"
   ]
  },
  {
   "cell_type": "markdown",
   "metadata": {},
   "source": [
    "## Funciones básicas"
   ]
  },
  {
   "cell_type": "markdown",
   "metadata": {},
   "source": [
    "Le llamamos función básica a cualquier función que no sea del tipo que veremos posteriormente: Funciones anónimas/Lambda, funciones recursivas, generadores.\n",
    "\n",
    "Estas pueden ser tan sencillas como manejar una impresión:"
   ]
  },
  {
   "cell_type": "code",
   "execution_count": 83,
   "metadata": {},
   "outputs": [
    {
     "name": "stdout",
     "output_type": "stream",
     "text": [
      "No soy parte de la función\n"
     ]
    }
   ],
   "source": [
    "def saludo(nombre):\n",
    "    print(f\"¡Hola {nombre}!\")"
   ]
  },
  {
   "cell_type": "code",
   "execution_count": 84,
   "metadata": {},
   "outputs": [
    {
     "name": "stdout",
     "output_type": "stream",
     "text": [
      "¡Hola SWISE!\n"
     ]
    }
   ],
   "source": [
    "saludo(\"SWISE\") "
   ]
  },
  {
   "cell_type": "markdown",
   "metadata": {},
   "source": [
    "O efectuar operaciones sobre sus argumentos:"
   ]
  },
  {
   "cell_type": "code",
   "execution_count": 7,
   "metadata": {},
   "outputs": [
    {
     "name": "stdout",
     "output_type": "stream",
     "text": [
      "375.0\n",
      "300\n"
     ]
    }
   ],
   "source": [
    "def mas_impuesto(dinero_base):\n",
    "    result = dinero_base*(1+0.25)\n",
    "#    if algo:\n",
    "    return(result, dinero_base)\n",
    "#    else:\n",
    "#        return(result + 1)\n",
    "\n",
    "x, y = mas_impuesto(300)\n",
    "print(x)\n",
    "print(y)"
   ]
  },
  {
   "cell_type": "markdown",
   "metadata": {},
   "source": [
    "O complejas como recibir información del usuario a ser utilizada posteriormente. Notemos este ejemplo, el cual ilustra algunas buenas prácticas al diseñar funciones:"
   ]
  },
  {
   "cell_type": "code",
   "execution_count": 87,
   "metadata": {},
   "outputs": [
    {
     "data": {
      "text/plain": [
       "5"
      ]
     },
     "execution_count": 87,
     "metadata": {},
     "output_type": "execute_result"
    }
   ],
   "source": [
    "len(\"hello\")"
   ]
  },
  {
   "cell_type": "code",
   "execution_count": 88,
   "metadata": {},
   "outputs": [],
   "source": [
    "def make_expediente():\n",
    "    \"\"\"\n",
    "    ESTA ES UN ÁREA DE COMENTARIOS. \n",
    "    < insertar alguna pequeña descripción >\n",
    "    \n",
    "    INPUTS: Ninguno, ej. Si tomase un número entero, ponemo: INPUT: int numero\n",
    "    OUTPUT: None, pero imprime el expediente del usuario.\n",
    "    \"\"\"\n",
    "    \n",
    "    # Obteniendo información\n",
    "    nombre = input(\"¿Cuál es su nombre completo?\")\n",
    "    edad = input(\"¿Su edad?\")\n",
    "    try:\n",
    "        sexo = input(\"¿Masculino o femenino (Responde en una letra)?\")\n",
    "        assert(len(sexo) == 1)\n",
    "    # Utilizado si el usuario no ingresa un solo caracter    \n",
    "    except AssertionError:\n",
    "        print(\"\\nERROR: Demasiados caracteres\")\n",
    "        print(\"Resuma su respuesta en una letra, ej: 'M' para masculino o 'F' para femenino.\\n\")\n",
    "        return(None)   \n",
    "    \n",
    "    # Imprimiendo expediente\n",
    "    print(\"\\n============ EXPEDIENTE ============\")\n",
    "    print(f\"= * Nombre: {nombre}\")\n",
    "    print(f\"= * Sexo:   {sexo}\")\n",
    "    print(f\"= * Edad:   {edad}\")\n",
    "    print(\"====================================\")"
   ]
  },
  {
   "cell_type": "code",
   "execution_count": 90,
   "metadata": {},
   "outputs": [
    {
     "name": "stdin",
     "output_type": "stream",
     "text": [
      "¿Cuál es su nombre completo? Pancracio Lucrecio Solorzano\n",
      "¿Su edad? 85\n",
      "¿Masculino o femenino (Responde en una letra)? M\n"
     ]
    },
    {
     "name": "stdout",
     "output_type": "stream",
     "text": [
      "\n",
      "============ EXPEDIENTE ============\n",
      "= * Nombre: Pancracio Lucrecio Solorzano\n",
      "= * Sexo:   M\n",
      "= * Edad:   85\n",
      "====================================\n"
     ]
    }
   ],
   "source": [
    "make_expediente()"
   ]
  },
  {
   "cell_type": "markdown",
   "metadata": {},
   "source": [
    "Esta función puede definitivamente mejorar para considerar más casos..."
   ]
  },
  {
   "cell_type": "code",
   "execution_count": 10,
   "metadata": {},
   "outputs": [],
   "source": [
    "def make_expediente():\n",
    "    \"\"\"\n",
    "    Función que genera el expediente de una persona\n",
    "    \n",
    "    INPUTS: Ninguno\n",
    "    OUTPUT: None, pero imprime el expediente del usuario.\n",
    "    \"\"\"\n",
    "    \n",
    "    ###### Obteniendo información\n",
    "    # Nombre\n",
    "    nombre = input(\"¿Cuál es su nombre completo?\")\n",
    "    \n",
    "    # Edad\n",
    "    try:\n",
    "        edad = input(\"¿Su edad?\")\n",
    "        edad = int(edad)   # Se intenta convertir a un entero. \n",
    "    except ValueError:\n",
    "        print(\"\\nERROR: Debe ingresar un número entero.\\n\")\n",
    "        print(\"Intente de nuevo:\")\n",
    "        make_expediente()  # Volvemos a llamar la función para que se vuelva a intentar\n",
    "        return(None)\n",
    "    \n",
    "    # Sexo\n",
    "    try:\n",
    "        sexo = input(\"¿Masculino o femenino?\")\n",
    "        assert(len(sexo) == 1)\n",
    "    # Utilizado si el usuario no ingresa un solo caracter    \n",
    "    except AssertionError:\n",
    "        print(\"\\nERROR: Demasiados caracteres\")\n",
    "        print(\"Resuma su respuesta en una letra, ej: 'M' para masculino o 'F' para femenino.\\n\")\n",
    "        print(\"Intente de nuevo:\")\n",
    "        make_expediente()\n",
    "        return(None)\n",
    "    \n",
    "    # Decorando outputs\n",
    "    if sexo.capitalize() == \"M\":\n",
    "        nombre = \"Mr. \" + nombre\n",
    "        sexo = \"Masculino\"\n",
    "    if sexo.capitalize() == \"F\":\n",
    "        nombre = \"Ms. \" + nombre\n",
    "        sexo = \"Femenino\"\n",
    "    \n",
    "    ##### Imprimiendo expediente\n",
    "    print(\"\\n============ EXPEDIENTE ============\")\n",
    "    print(f\"= * Nombre: {nombre}\")\n",
    "    print(f\"= * Sexo:   {sexo}\")\n",
    "    print(f\"= * Edad:   {edad}\")\n",
    "    print(\"====================================\")"
   ]
  },
  {
   "cell_type": "code",
   "execution_count": 11,
   "metadata": {},
   "outputs": [
    {
     "name": "stdin",
     "output_type": "stream",
     "text": [
      "¿Cuál es su nombre completo? Paca Quijota\n",
      "¿Su edad? 65\n",
      "¿Masculino o femenino? F\n"
     ]
    },
    {
     "name": "stdout",
     "output_type": "stream",
     "text": [
      "\n",
      "============ EXPEDIENTE ============\n",
      "= * Nombre: Ms. Paca Quijota\n",
      "= * Sexo:   Femenino\n",
      "= * Edad:   65\n",
      "====================================\n"
     ]
    }
   ],
   "source": [
    "make_expediente()"
   ]
  },
  {
   "cell_type": "markdown",
   "metadata": {},
   "source": [
    "## Funciones anónomas/Lambda"
   ]
  },
  {
   "cell_type": "markdown",
   "metadata": {},
   "source": [
    "Escribir funciones matemáticas en python, como:"
   ]
  },
  {
   "cell_type": "code",
   "execution_count": 12,
   "metadata": {},
   "outputs": [
    {
     "data": {
      "text/plain": [
       "5"
      ]
     },
     "execution_count": 12,
     "metadata": {},
     "output_type": "execute_result"
    }
   ],
   "source": [
    "def f(x):\n",
    "    result = x**2 + 1\n",
    "    return(result)\n",
    "\n",
    "f(2)"
   ]
  },
  {
   "cell_type": "markdown",
   "metadata": {},
   "source": [
    "Puede ser mucho más fácil y legible escribirlas como **funciones lambda o anónimas**:"
   ]
  },
  {
   "cell_type": "code",
   "execution_count": 13,
   "metadata": {},
   "outputs": [
    {
     "data": {
      "text/plain": [
       "5"
      ]
     },
     "execution_count": 13,
     "metadata": {},
     "output_type": "execute_result"
    }
   ],
   "source": [
    "f = lambda x: x**2 + 1 # \"f(x) = x**2 + 1\"\n",
    "f(2)"
   ]
  },
  {
   "cell_type": "markdown",
   "metadata": {},
   "source": [
    "Estas pueden tener varios argumentos sin problema alguno:"
   ]
  },
  {
   "cell_type": "code",
   "execution_count": 14,
   "metadata": {},
   "outputs": [
    {
     "data": {
      "text/plain": [
       "14"
      ]
     },
     "execution_count": 14,
     "metadata": {},
     "output_type": "execute_result"
    }
   ],
   "source": [
    "f = lambda x,y,z: x**2 + y**2 + z**2\n",
    "f(1,3,-2)"
   ]
  },
  {
   "cell_type": "markdown",
   "metadata": {},
   "source": [
    "## Funciones recursivas"
   ]
  },
  {
   "cell_type": "code",
   "execution_count": 15,
   "metadata": {},
   "outputs": [
    {
     "data": {
      "text/plain": [
       "21"
      ]
     },
     "execution_count": 15,
     "metadata": {},
     "output_type": "execute_result"
    }
   ],
   "source": [
    "def fibonacci_like(a_0, a_1, n):\n",
    "    a_k = a_0 + a_1\n",
    "    if n > 1:\n",
    "        return(fibonacci_like(a_1, a_k, n-1))\n",
    "    else:\n",
    "        return(a_k)\n",
    "\n",
    "fibonacci_like(0,1,7) "
   ]
  },
  {
   "cell_type": "code",
   "execution_count": 16,
   "metadata": {},
   "outputs": [
    {
     "name": "stdout",
     "output_type": "stream",
     "text": [
      "B\n",
      "A\n",
      "B\n"
     ]
    }
   ],
   "source": [
    "def func_A(x):\n",
    "    if x > 5:\n",
    "        return(func_B(2*x-6))\n",
    "    else:\n",
    "        print(\"A\")\n",
    "        \n",
    "def func_B(x):\n",
    "    if x > 5:\n",
    "        return(func_A(x/2-3))\n",
    "    else:\n",
    "        print(\"B\")\n",
    "\n",
    "func_B(2)\n",
    "func_B(7)\n",
    "func_B(17)"
   ]
  },
  {
   "cell_type": "markdown",
   "metadata": {},
   "source": [
    "# Ciclos de repetición"
   ]
  },
  {
   "cell_type": "markdown",
   "metadata": {},
   "source": [
    "Podemos tener ciclos con una variable contadora como es usual en otros lenguajes de programación"
   ]
  },
  {
   "cell_type": "markdown",
   "metadata": {},
   "source": [
    "## Ciclos for"
   ]
  },
  {
   "cell_type": "code",
   "execution_count": 18,
   "metadata": {},
   "outputs": [
    {
     "name": "stdout",
     "output_type": "stream",
     "text": [
      "0\n",
      "1\n",
      "2\n",
      "3\n",
      "4\n",
      "5\n",
      "6\n",
      "7\n",
      "8\n",
      "9\n"
     ]
    }
   ],
   "source": [
    "# Notemos que la impresión va de 0 a 2\n",
    "for i in range(10):\n",
    "    print(i)"
   ]
  },
  {
   "cell_type": "markdown",
   "metadata": {},
   "source": [
    "La diferencia crucial entre otros lenguajes, como C++, es que la variable `i` no está siendo incrementada como un contador, si no que **itera** sobre una lista. En este caso, la funcion `range` es algo que llamamos un **iterable** en python"
   ]
  },
  {
   "cell_type": "code",
   "execution_count": 22,
   "metadata": {},
   "outputs": [
    {
     "data": {
      "text/plain": [
       "range"
      ]
     },
     "execution_count": 22,
     "metadata": {},
     "output_type": "execute_result"
    }
   ],
   "source": [
    "type(range(3))"
   ]
  },
  {
   "cell_type": "code",
   "execution_count": 23,
   "metadata": {},
   "outputs": [
    {
     "data": {
      "text/plain": [
       "['__bool__',\n",
       " '__class__',\n",
       " '__contains__',\n",
       " '__delattr__',\n",
       " '__dir__',\n",
       " '__doc__',\n",
       " '__eq__',\n",
       " '__format__',\n",
       " '__ge__',\n",
       " '__getattribute__',\n",
       " '__getitem__',\n",
       " '__gt__',\n",
       " '__hash__',\n",
       " '__init__',\n",
       " '__init_subclass__',\n",
       " '__iter__',\n",
       " '__le__',\n",
       " '__len__',\n",
       " '__lt__',\n",
       " '__ne__',\n",
       " '__new__',\n",
       " '__reduce__',\n",
       " '__reduce_ex__',\n",
       " '__repr__',\n",
       " '__reversed__',\n",
       " '__setattr__',\n",
       " '__sizeof__',\n",
       " '__str__',\n",
       " '__subclasshook__',\n",
       " 'count',\n",
       " 'index',\n",
       " 'start',\n",
       " 'step',\n",
       " 'stop']"
      ]
     },
     "execution_count": 23,
     "metadata": {},
     "output_type": "execute_result"
    }
   ],
   "source": [
    "dir(range(3))"
   ]
  },
  {
   "cell_type": "code",
   "execution_count": 27,
   "metadata": {},
   "outputs": [],
   "source": [
    "#dir(\"Hola\")"
   ]
  },
  {
   "cell_type": "code",
   "execution_count": 28,
   "metadata": {},
   "outputs": [
    {
     "data": {
      "text/plain": [
       "True"
      ]
     },
     "execution_count": 28,
     "metadata": {},
     "output_type": "execute_result"
    }
   ],
   "source": [
    "\"__iter__\" in dir(range(3))"
   ]
  },
  {
   "cell_type": "code",
   "execution_count": 29,
   "metadata": {},
   "outputs": [
    {
     "data": {
      "text/plain": [
       "True"
      ]
     },
     "execution_count": 29,
     "metadata": {},
     "output_type": "execute_result"
    }
   ],
   "source": [
    "\"__iter__\" in dir(\"Hello\")"
   ]
  },
  {
   "cell_type": "code",
   "execution_count": 30,
   "metadata": {},
   "outputs": [
    {
     "data": {
      "text/plain": [
       "False"
      ]
     },
     "execution_count": 30,
     "metadata": {},
     "output_type": "execute_result"
    }
   ],
   "source": [
    "\"__iter__\" in dir(5)"
   ]
  },
  {
   "cell_type": "code",
   "execution_count": 25,
   "metadata": {},
   "outputs": [
    {
     "name": "stdout",
     "output_type": "stream",
     "text": [
      "H\n",
      "e\n",
      "l\n",
      "l\n",
      "o\n"
     ]
    }
   ],
   "source": [
    "for i in \"Hello\":\n",
    "    print(i)"
   ]
  },
  {
   "cell_type": "markdown",
   "metadata": {},
   "source": [
    "Es una buena práctica en python utilizar nombres de variables que sean lo mejor asociados posibles al objeto real que representan"
   ]
  },
  {
   "cell_type": "code",
   "execution_count": 31,
   "metadata": {},
   "outputs": [
    {
     "name": "stdout",
     "output_type": "stream",
     "text": [
      "H\n",
      "e\n",
      "l\n",
      "l\n",
      "o\n"
     ]
    }
   ],
   "source": [
    "for letra in \"Hello\":\n",
    "    print(letra)"
   ]
  },
  {
   "cell_type": "code",
   "execution_count": 32,
   "metadata": {},
   "outputs": [
    {
     "name": "stdout",
     "output_type": "stream",
     "text": [
      "1\n",
      "3\n",
      "1\n",
      "Saliendo del ciclo...\n"
     ]
    }
   ],
   "source": [
    "for num in [1,3,1,6,2]:\n",
    "    if num > 5:\n",
    "        print(\"Saliendo del ciclo...\")\n",
    "        break  # Instrucción para salirse del ciclo.\n",
    "    else:\n",
    "        print(num)"
   ]
  },
  {
   "cell_type": "code",
   "execution_count": 33,
   "metadata": {},
   "outputs": [
    {
     "name": "stdout",
     "output_type": "stream",
     "text": [
      "1.0\n",
      "0.3333333333333333\n",
      "-0.25\n"
     ]
    }
   ],
   "source": [
    "for num in [1,0,3,0,0,-4]:\n",
    "    try:\n",
    "        print(1/num)\n",
    "    except:\n",
    "        pass  # Utilizado para no hacer nada más y solamente pasa la iteración"
   ]
  },
  {
   "cell_type": "code",
   "execution_count": 34,
   "metadata": {},
   "outputs": [
    {
     "name": "stdout",
     "output_type": "stream",
     "text": [
      "2\n",
      "3\n",
      "4\n",
      "5\n",
      "6\n",
      "7\n",
      "8\n",
      "9\n"
     ]
    }
   ],
   "source": [
    "for num in range(2,10):\n",
    "    if num > 5:\n",
    "        pass\n",
    "    print(num)"
   ]
  },
  {
   "cell_type": "code",
   "execution_count": 36,
   "metadata": {},
   "outputs": [
    {
     "name": "stdout",
     "output_type": "stream",
     "text": [
      "2\n",
      "3\n",
      "4\n",
      "5\n",
      "Hola soy el número 6.\n",
      "Hola soy el número 7.\n",
      "Hola soy el número 8.\n",
      "Hola soy el número 9.\n"
     ]
    }
   ],
   "source": [
    "for num in range(2,10):\n",
    "    if num > 5:\n",
    "        print(f\"Hola soy el número {num}.\")\n",
    "        continue  # Continua automáticamente al siguiente elemento del ciclo.\n",
    "    print(num)"
   ]
  },
  {
   "cell_type": "markdown",
   "metadata": {},
   "source": [
    "## Ciclos for múltiples"
   ]
  },
  {
   "cell_type": "code",
   "execution_count": 37,
   "metadata": {},
   "outputs": [
    {
     "name": "stdout",
     "output_type": "stream",
     "text": [
      "1 uno\n",
      "3 tres\n",
      "1 uno\n",
      "6 seis\n",
      "2 dos\n"
     ]
    }
   ],
   "source": [
    "lista1 = [1,3,1,6,2]\n",
    "lista2 = [\"uno\", \"tres\", \"uno\", \"seis\", \"dos\"]\n",
    "for elem1, elem2 in zip(lista1, lista2):\n",
    "    print(elem1, elem2)"
   ]
  },
  {
   "cell_type": "code",
   "execution_count": 38,
   "metadata": {},
   "outputs": [
    {
     "name": "stdout",
     "output_type": "stream",
     "text": [
      "0 uno\n",
      "-2 tres\n",
      "-3 uno\n",
      "4 seis\n",
      "-5 dos\n"
     ]
    }
   ],
   "source": [
    "lista3 = [1,5,4,2,7]\n",
    "for elem1, elem2, elem3 in zip(lista1, lista2, lista3):\n",
    "    print(elem1-elem3, elem2)"
   ]
  },
  {
   "cell_type": "code",
   "execution_count": 39,
   "metadata": {},
   "outputs": [
    {
     "data": {
      "text/plain": [
       "zip"
      ]
     },
     "execution_count": 39,
     "metadata": {},
     "output_type": "execute_result"
    }
   ],
   "source": [
    "type(zip(lista1, lista2, lista3))"
   ]
  },
  {
   "cell_type": "code",
   "execution_count": 40,
   "metadata": {},
   "outputs": [
    {
     "data": {
      "text/plain": [
       "['__class__',\n",
       " '__delattr__',\n",
       " '__dir__',\n",
       " '__doc__',\n",
       " '__eq__',\n",
       " '__format__',\n",
       " '__ge__',\n",
       " '__getattribute__',\n",
       " '__gt__',\n",
       " '__hash__',\n",
       " '__init__',\n",
       " '__init_subclass__',\n",
       " '__iter__',\n",
       " '__le__',\n",
       " '__lt__',\n",
       " '__ne__',\n",
       " '__new__',\n",
       " '__next__',\n",
       " '__reduce__',\n",
       " '__reduce_ex__',\n",
       " '__repr__',\n",
       " '__setattr__',\n",
       " '__sizeof__',\n",
       " '__str__',\n",
       " '__subclasshook__']"
      ]
     },
     "execution_count": 40,
     "metadata": {},
     "output_type": "execute_result"
    }
   ],
   "source": [
    "dir(zip(lista1, lista2, lista3))"
   ]
  },
  {
   "cell_type": "code",
   "execution_count": 41,
   "metadata": {
    "collapsed": true,
    "jupyter": {
     "outputs_hidden": true
    }
   },
   "outputs": [
    {
     "name": "stdout",
     "output_type": "stream",
     "text": [
      "Help on class zip in module builtins:\n",
      "\n",
      "class zip(object)\n",
      " |  zip(*iterables) --> zip object\n",
      " |  \n",
      " |  Return a zip object whose .__next__() method returns a tuple where\n",
      " |  the i-th element comes from the i-th iterable argument.  The .__next__()\n",
      " |  method continues until the shortest iterable in the argument sequence\n",
      " |  is exhausted and then it raises StopIteration.\n",
      " |  \n",
      " |  Methods defined here:\n",
      " |  \n",
      " |  __getattribute__(self, name, /)\n",
      " |      Return getattr(self, name).\n",
      " |  \n",
      " |  __iter__(self, /)\n",
      " |      Implement iter(self).\n",
      " |  \n",
      " |  __next__(self, /)\n",
      " |      Implement next(self).\n",
      " |  \n",
      " |  __reduce__(...)\n",
      " |      Return state information for pickling.\n",
      " |  \n",
      " |  ----------------------------------------------------------------------\n",
      " |  Static methods defined here:\n",
      " |  \n",
      " |  __new__(*args, **kwargs) from builtins.type\n",
      " |      Create and return a new object.  See help(type) for accurate signature.\n",
      "\n"
     ]
    }
   ],
   "source": [
    "help(zip)"
   ]
  },
  {
   "cell_type": "markdown",
   "metadata": {},
   "source": [
    "## Ciclos while"
   ]
  },
  {
   "cell_type": "markdown",
   "metadata": {},
   "source": [
    "Los ciclos while son útiles para cuando conocemos bien una condición de desactivación. Esto es muy usado en los llamados \"eventos\", donde puede ser que quedamos que algo se comporte de cierta manera hasta que le digamos que lo deje de hacer."
   ]
  },
  {
   "cell_type": "code",
   "execution_count": 45,
   "metadata": {},
   "outputs": [
    {
     "name": "stdout",
     "output_type": "stream",
     "text": [
      "1\n",
      "2\n",
      "3\n",
      "4\n",
      "5\n",
      "6\n",
      "7\n",
      "8\n",
      "9\n",
      "10\n",
      "False\n"
     ]
    }
   ],
   "source": [
    "condicion = True\n",
    "contador = 1\n",
    "while condicion:\n",
    "    print(contador)\n",
    "    contador += 1\n",
    "    # Apaga el contador y podremos salir del ciclo while\n",
    "    if contador > 10:\n",
    "        #break\n",
    "        condicion = False\n",
    "\n",
    "print(condicion)"
   ]
  },
  {
   "cell_type": "code",
   "execution_count": 46,
   "metadata": {},
   "outputs": [
    {
     "name": "stdout",
     "output_type": "stream",
     "text": [
      "1\n",
      "2\n",
      "3\n",
      "4\n",
      "5\n",
      "6\n",
      "7\n",
      "8\n",
      "9\n",
      "10\n"
     ]
    }
   ],
   "source": [
    "contador = 1\n",
    "while True:\n",
    "    print(contador)\n",
    "    contador += 1\n",
    "    # Apaga el contador y podremos salir del ciclo while\n",
    "    if contador > 10:\n",
    "        break"
   ]
  },
  {
   "cell_type": "markdown",
   "metadata": {},
   "source": [
    "# Listas"
   ]
  },
  {
   "cell_type": "markdown",
   "metadata": {},
   "source": [
    "Las listas son la primera estructura de datos que comenzaremos a explorar, no obstante sus métodos de clase y mayoría de usos se visitarán luego junto al estudio completo de estructuras de datos."
   ]
  },
  {
   "cell_type": "markdown",
   "metadata": {},
   "source": [
    "## Métodos de listas"
   ]
  },
  {
   "cell_type": "code",
   "execution_count": 47,
   "metadata": {},
   "outputs": [
    {
     "data": {
      "text/plain": [
       "[1, 2, 6, 3, 0]"
      ]
     },
     "execution_count": 47,
     "metadata": {},
     "output_type": "execute_result"
    }
   ],
   "source": [
    "lista = [1,2,6,3,0]  # Una lista puede contener números\n",
    "lista"
   ]
  },
  {
   "cell_type": "code",
   "execution_count": 48,
   "metadata": {},
   "outputs": [
    {
     "data": {
      "text/plain": [
       "['Hola', 3, 'Soy un string']"
      ]
     },
     "execution_count": 48,
     "metadata": {},
     "output_type": "execute_result"
    }
   ],
   "source": [
    "lista2 = [\"Hola\", 3, \"Soy un string\"] # o combinación con strings...\n",
    "lista2"
   ]
  },
  {
   "cell_type": "code",
   "execution_count": 49,
   "metadata": {},
   "outputs": [
    {
     "data": {
      "text/plain": [
       "['Hello', [1, 4, -2], [<function __main__.<lambda>(x)>]]"
      ]
     },
     "execution_count": 49,
     "metadata": {},
     "output_type": "execute_result"
    }
   ],
   "source": [
    "lista3 = [\"Hello\", [1,4,-2], [lambda x: 4*x]]  # o incluso funciones\n",
    "lista3"
   ]
  },
  {
   "cell_type": "markdown",
   "metadata": {},
   "source": [
    "Observemos los métodos contenidos en las listas:"
   ]
  },
  {
   "cell_type": "code",
   "execution_count": 50,
   "metadata": {},
   "outputs": [
    {
     "data": {
      "text/plain": [
       "['__add__',\n",
       " '__class__',\n",
       " '__contains__',\n",
       " '__delattr__',\n",
       " '__delitem__',\n",
       " '__dir__',\n",
       " '__doc__',\n",
       " '__eq__',\n",
       " '__format__',\n",
       " '__ge__',\n",
       " '__getattribute__',\n",
       " '__getitem__',\n",
       " '__gt__',\n",
       " '__hash__',\n",
       " '__iadd__',\n",
       " '__imul__',\n",
       " '__init__',\n",
       " '__init_subclass__',\n",
       " '__iter__',\n",
       " '__le__',\n",
       " '__len__',\n",
       " '__lt__',\n",
       " '__mul__',\n",
       " '__ne__',\n",
       " '__new__',\n",
       " '__reduce__',\n",
       " '__reduce_ex__',\n",
       " '__repr__',\n",
       " '__reversed__',\n",
       " '__rmul__',\n",
       " '__setattr__',\n",
       " '__setitem__',\n",
       " '__sizeof__',\n",
       " '__str__',\n",
       " '__subclasshook__',\n",
       " 'append',\n",
       " 'clear',\n",
       " 'copy',\n",
       " 'count',\n",
       " 'extend',\n",
       " 'index',\n",
       " 'insert',\n",
       " 'pop',\n",
       " 'remove',\n",
       " 'reverse',\n",
       " 'sort']"
      ]
     },
     "execution_count": 50,
     "metadata": {},
     "output_type": "execute_result"
    }
   ],
   "source": [
    "dir(list)"
   ]
  },
  {
   "cell_type": "code",
   "execution_count": 53,
   "metadata": {},
   "outputs": [
    {
     "name": "stdin",
     "output_type": "stream",
     "text": [
      "Ingrese un nombre María \n",
      "Ingrese un nombre José\n",
      "Ingrese un nombre Ramón\n"
     ]
    },
    {
     "name": "stdout",
     "output_type": "stream",
     "text": [
      "['María ', 'José', 'Ramón']\n"
     ]
    }
   ],
   "source": [
    "lista_nombres = []\n",
    "while len(lista_nombres) < 3:\n",
    "    nombre_actual = input(\"Ingrese un nombre\")\n",
    "    lista_nombres.append(nombre_actual)\n",
    "\n",
    "print(lista_nombres)"
   ]
  },
  {
   "cell_type": "code",
   "execution_count": 59,
   "metadata": {},
   "outputs": [
    {
     "name": "stdout",
     "output_type": "stream",
     "text": [
      "[1, 5, 3, 4]\n",
      "[1, 5, 3, 4, 5, 3, 8]\n",
      "[1, 5, 3, 4, 5, 3]\n",
      "[5, 5, 4, 3, 3, 1]\n",
      "[5, 5, 4, 3, 'Hello', 3, 1]\n"
     ]
    }
   ],
   "source": [
    "lista4 = [1,5,3]\n",
    "lista4.append(4)\n",
    "print(lista4)\n",
    "lista4.extend([5,3,8])\n",
    "print(lista4)\n",
    "lista4.pop()\n",
    "print(lista4)\n",
    "lista4.sort(reverse = True)\n",
    "print(lista4)\n",
    "lista4.insert(4, \"Hello\")\n",
    "print(lista4)"
   ]
  },
  {
   "cell_type": "code",
   "execution_count": 64,
   "metadata": {},
   "outputs": [
    {
     "name": "stdout",
     "output_type": "stream",
     "text": [
      "['José', 'María ', 'Ramón', 'maria']\n"
     ]
    }
   ],
   "source": [
    "lista_nombres.append(\"maria\")\n",
    "lista_nombres.sort()\n",
    "print(lista_nombres)"
   ]
  },
  {
   "cell_type": "code",
   "execution_count": 61,
   "metadata": {},
   "outputs": [
    {
     "name": "stdout",
     "output_type": "stream",
     "text": [
      "Help on method_descriptor:\n",
      "\n",
      "insert(self, index, object, /)\n",
      "    Insert object before index.\n",
      "\n"
     ]
    }
   ],
   "source": [
    "help(list.insert)"
   ]
  },
  {
   "cell_type": "code",
   "execution_count": 63,
   "metadata": {},
   "outputs": [
    {
     "name": "stdin",
     "output_type": "stream",
     "text": [
      "Ingrese un número o presione 'q' para salir:  5\n",
      "Ingrese un número o presione 'q' para salir:  4\n",
      "Ingrese un número o presione 'q' para salir:  2\n",
      "Ingrese un número o presione 'q' para salir:  6\n",
      "Ingrese un número o presione 'q' para salir:  q\n"
     ]
    },
    {
     "name": "stdout",
     "output_type": "stream",
     "text": [
      "[5, 4, 2, 6]\n"
     ]
    }
   ],
   "source": [
    "lista_a_rellenar = []  # Lista vacía\n",
    "switch = True\n",
    "\n",
    "while switch:\n",
    "    user_input = input(\"Ingrese un número o presione 'q' para salir: \")\n",
    "    if user_input == \"q\":\n",
    "        switch = False\n",
    "    else:\n",
    "        lista_a_rellenar.append(int(user_input))\n",
    "\n",
    "print(lista_a_rellenar)"
   ]
  },
  {
   "cell_type": "markdown",
   "metadata": {},
   "source": [
    "Podemos incluso crear listas con ciclos for incluidos... a esto le llamamos **list comprehension**."
   ]
  },
  {
   "cell_type": "code",
   "execution_count": 71,
   "metadata": {},
   "outputs": [
    {
     "data": {
      "text/plain": [
       "[2, 10, 37, 65]"
      ]
     },
     "execution_count": 71,
     "metadata": {},
     "output_type": "execute_result"
    }
   ],
   "source": [
    "lista = [num**2+1 for num in [1,3,6,8]]\n",
    "lista"
   ]
  },
  {
   "cell_type": "markdown",
   "metadata": {},
   "source": [
    "Eso es equivalente a:"
   ]
  },
  {
   "cell_type": "code",
   "execution_count": 72,
   "metadata": {},
   "outputs": [
    {
     "data": {
      "text/plain": [
       "[2, 10, 37, 65]"
      ]
     },
     "execution_count": 72,
     "metadata": {},
     "output_type": "execute_result"
    }
   ],
   "source": [
    "lista_provicional = [1,3,6,8]\n",
    "lista = []\n",
    "for num in lista_provicional:\n",
    "    lista.append(num**2+1)\n",
    "    \n",
    "lista"
   ]
  },
  {
   "cell_type": "markdown",
   "metadata": {},
   "source": [
    "Podemos también combinar condicionales if-else junto con list comprehensions:"
   ]
  },
  {
   "cell_type": "code",
   "execution_count": null,
   "metadata": {},
   "outputs": [],
   "source": [
    "lista_sexos = [\"F\", \"M\", \"M\", \"F\", \"M\", \"F\", \"F\", \"M\", \"F\", \"F\"]\n",
    "lista = [1 if sexo == \"F\" else 0 for sexo in lista_sexos]\n",
    "lista"
   ]
  },
  {
   "cell_type": "markdown",
   "metadata": {},
   "source": [
    "## Índices en listas"
   ]
  },
  {
   "cell_type": "code",
   "execution_count": 65,
   "metadata": {},
   "outputs": [
    {
     "name": "stdout",
     "output_type": "stream",
     "text": [
      "1\n",
      "2\n"
     ]
    }
   ],
   "source": [
    "lista = [1,5,4,2,2,6,4,1,7,9]\n",
    "print(lista[0])\n",
    "print(lista[3])"
   ]
  },
  {
   "cell_type": "code",
   "execution_count": 66,
   "metadata": {},
   "outputs": [
    {
     "data": {
      "text/plain": [
       "[5, 4, 2]"
      ]
     },
     "execution_count": 66,
     "metadata": {},
     "output_type": "execute_result"
    }
   ],
   "source": [
    "lista[1:4] # Imprime del elemento 1 al elemento 4 pero sin incluirlo. Es decir, solo el 1, 2 y 3"
   ]
  },
  {
   "cell_type": "code",
   "execution_count": 67,
   "metadata": {},
   "outputs": [
    {
     "data": {
      "text/plain": [
       "[1, 5, 4, 2, 2]"
      ]
     },
     "execution_count": 67,
     "metadata": {},
     "output_type": "execute_result"
    }
   ],
   "source": [
    "lista[:5] # Si no se pasa argumento, comienza desde el elemento 0 "
   ]
  },
  {
   "cell_type": "code",
   "execution_count": 68,
   "metadata": {},
   "outputs": [
    {
     "data": {
      "text/plain": [
       "9"
      ]
     },
     "execution_count": 68,
     "metadata": {},
     "output_type": "execute_result"
    }
   ],
   "source": [
    "lista[-1] # El último elemento"
   ]
  },
  {
   "cell_type": "code",
   "execution_count": 69,
   "metadata": {},
   "outputs": [
    {
     "data": {
      "text/plain": [
       "[1, 7, 9]"
      ]
     },
     "execution_count": 69,
     "metadata": {},
     "output_type": "execute_result"
    }
   ],
   "source": [
    "lista[-3:] # Los últimos 3"
   ]
  },
  {
   "cell_type": "code",
   "execution_count": 70,
   "metadata": {},
   "outputs": [
    {
     "name": "stdout",
     "output_type": "stream",
     "text": [
      "[1, 5, 4, 2, 2, 6, 4, 3, 5, 7]\n"
     ]
    }
   ],
   "source": [
    "lista[-3:] = [3,5,7]\n",
    "print(lista)"
   ]
  },
  {
   "cell_type": "markdown",
   "metadata": {},
   "source": [
    "## Función `Map`"
   ]
  },
  {
   "cell_type": "code",
   "execution_count": 2,
   "metadata": {},
   "outputs": [],
   "source": [
    "# import statistics\n",
    "# statistics.mean()\n",
    "# from statistics import * \n",
    "\n",
    "from statistics import mean"
   ]
  },
  {
   "cell_type": "code",
   "execution_count": 5,
   "metadata": {},
   "outputs": [
    {
     "data": {
      "text/plain": [
       "True"
      ]
     },
     "execution_count": 5,
     "metadata": {},
     "output_type": "execute_result"
    }
   ],
   "source": [
    "\"gmail\" in \"lffm.fismat@gmail.com\""
   ]
  },
  {
   "cell_type": "code",
   "execution_count": 3,
   "metadata": {},
   "outputs": [
    {
     "name": "stdout",
     "output_type": "stream",
     "text": [
      "2\n",
      "4\n",
      "2.3333333333333335\n",
      "2.3333333333333335\n"
     ]
    }
   ],
   "source": [
    "lista_de_listas = [ [1,2,3], [4,5,3], [-1, 2, 6], [-2, -1, 10] ]\n",
    "for media in map(mean, lista_de_listas):\n",
    "    print(media)"
   ]
  },
  {
   "cell_type": "code",
   "execution_count": 6,
   "metadata": {},
   "outputs": [
    {
     "data": {
      "text/plain": [
       "<map at 0x7f3a27d8b910>"
      ]
     },
     "execution_count": 6,
     "metadata": {},
     "output_type": "execute_result"
    }
   ],
   "source": [
    "map(mean, lista_de_listas)"
   ]
  },
  {
   "cell_type": "code",
   "execution_count": 7,
   "metadata": {},
   "outputs": [
    {
     "data": {
      "text/plain": [
       "[2, 4, 2.3333333333333335, 2.3333333333333335]"
      ]
     },
     "execution_count": 7,
     "metadata": {},
     "output_type": "execute_result"
    }
   ],
   "source": [
    "list(map(mean, lista_de_listas))"
   ]
  },
  {
   "cell_type": "code",
   "execution_count": 8,
   "metadata": {},
   "outputs": [
    {
     "data": {
      "text/plain": [
       "[2, 4, 2.33, 2.33]"
      ]
     },
     "execution_count": 8,
     "metadata": {},
     "output_type": "execute_result"
    }
   ],
   "source": [
    "f = lambda x: round(mean(x),2)\n",
    "list(map(f, lista_de_listas))"
   ]
  },
  {
   "cell_type": "code",
   "execution_count": null,
   "metadata": {},
   "outputs": [],
   "source": []
  }
 ],
 "metadata": {
  "kernelspec": {
   "display_name": "Python 3",
   "language": "python",
   "name": "python3"
  },
  "language_info": {
   "codemirror_mode": {
    "name": "ipython",
    "version": 3
   },
   "file_extension": ".py",
   "mimetype": "text/x-python",
   "name": "python",
   "nbconvert_exporter": "python",
   "pygments_lexer": "ipython3",
   "version": "3.7.7"
  },
  "toc-autonumbering": true,
  "toc-showcode": false,
  "toc-showmarkdowntxt": false,
  "toc-showtags": false
 },
 "nbformat": 4,
 "nbformat_minor": 4
}
