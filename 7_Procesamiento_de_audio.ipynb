{
 "cells": [
  {
   "cell_type": "markdown",
   "metadata": {},
   "source": [
    "# Importe de paquetes"
   ]
  },
  {
   "cell_type": "code",
   "execution_count": 1,
   "metadata": {},
   "outputs": [],
   "source": [
    "import pyaudio\n",
    "import struct\n",
    "import numpy as np\n",
    "import matplotlib.pyplot as plt"
   ]
  },
  {
   "cell_type": "code",
   "execution_count": 2,
   "metadata": {},
   "outputs": [
    {
     "data": {
      "text/plain": [
       "['PyAudio',\n",
       " 'Stream',\n",
       " '__author__',\n",
       " '__builtins__',\n",
       " '__cached__',\n",
       " '__doc__',\n",
       " '__docformat__',\n",
       " '__file__',\n",
       " '__loader__',\n",
       " '__name__',\n",
       " '__package__',\n",
       " '__spec__',\n",
       " '__version__',\n",
       " 'get_format_from_width',\n",
       " 'get_portaudio_version',\n",
       " 'get_portaudio_version_text',\n",
       " 'get_sample_size',\n",
       " 'pa',\n",
       " 'paAL',\n",
       " 'paALSA',\n",
       " 'paASIO',\n",
       " 'paAbort',\n",
       " 'paBadIODeviceCombination',\n",
       " 'paBadStreamPtr',\n",
       " 'paBeOS',\n",
       " 'paBufferTooBig',\n",
       " 'paBufferTooSmall',\n",
       " 'paCanNotReadFromACallbackStream',\n",
       " 'paCanNotReadFromAnOutputOnlyStream',\n",
       " 'paCanNotWriteToACallbackStream',\n",
       " 'paCanNotWriteToAnInputOnlyStream',\n",
       " 'paComplete',\n",
       " 'paContinue',\n",
       " 'paCoreAudio',\n",
       " 'paCustomFormat',\n",
       " 'paDeviceUnavailable',\n",
       " 'paDirectSound',\n",
       " 'paFloat32',\n",
       " 'paHostApiNotFound',\n",
       " 'paInDevelopment',\n",
       " 'paIncompatibleHostApiSpecificStreamInfo',\n",
       " 'paIncompatibleStreamHostApi',\n",
       " 'paInputOverflow',\n",
       " 'paInputOverflowed',\n",
       " 'paInputUnderflow',\n",
       " 'paInsufficientMemory',\n",
       " 'paInt16',\n",
       " 'paInt24',\n",
       " 'paInt32',\n",
       " 'paInt8',\n",
       " 'paInternalError',\n",
       " 'paInvalidChannelCount',\n",
       " 'paInvalidDevice',\n",
       " 'paInvalidFlag',\n",
       " 'paInvalidHostApi',\n",
       " 'paInvalidSampleRate',\n",
       " 'paJACK',\n",
       " 'paMME',\n",
       " 'paNoDevice',\n",
       " 'paNoError',\n",
       " 'paNotInitialized',\n",
       " 'paNullCallback',\n",
       " 'paOSS',\n",
       " 'paOutputOverflow',\n",
       " 'paOutputUnderflow',\n",
       " 'paOutputUnderflowed',\n",
       " 'paPrimingOutput',\n",
       " 'paSampleFormatNotSupported',\n",
       " 'paSoundManager',\n",
       " 'paStreamIsNotStopped',\n",
       " 'paStreamIsStopped',\n",
       " 'paTimedOut',\n",
       " 'paUInt8',\n",
       " 'paUnanticipatedHostError',\n",
       " 'paWASAPI',\n",
       " 'paWDMKS',\n",
       " 'sys']"
      ]
     },
     "execution_count": 2,
     "metadata": {},
     "output_type": "execute_result"
    }
   ],
   "source": [
    "dir(pyaudio)"
   ]
  },
  {
   "cell_type": "markdown",
   "metadata": {},
   "source": [
    "# Generadores"
   ]
  },
  {
   "cell_type": "markdown",
   "metadata": {},
   "source": [
    "Los generadores son funciones que conservan su memoria en el momento que se les pide retornar el control al ámbito global (global scope) mediante la palabra clave `yield`.\n",
    "\n",
    "Esta es diferente a `return` en que `return` invoca al recolector de basura de python para que elimine todas las referencias y los objetos de variables utilizadas dentro del ámbito de la función, mientras que `yield` las preserva para cuando se le otorgue el control de nuevo a la función."
   ]
  },
  {
   "cell_type": "code",
   "execution_count": 3,
   "metadata": {},
   "outputs": [],
   "source": [
    "def prueba_generador():\n",
    "    i = 1\n",
    "    while True:     # Un ciclo infinito\n",
    "        yield(i)    # Se retorna el control al ámbito global junto al valor de i\n",
    "        i = i + 1   # Se modificará el valor de \"i\" POSTERIOR a recobrar el control"
   ]
  },
  {
   "cell_type": "markdown",
   "metadata": {},
   "source": [
    "Se inicializa el generador"
   ]
  },
  {
   "cell_type": "code",
   "execution_count": 4,
   "metadata": {},
   "outputs": [],
   "source": [
    "generador = prueba_generador()"
   ]
  },
  {
   "cell_type": "markdown",
   "metadata": {},
   "source": [
    "La palabra clave `next` se utiliza para movernos sobre los objetos de un iterador"
   ]
  },
  {
   "cell_type": "code",
   "execution_count": 10,
   "metadata": {},
   "outputs": [
    {
     "data": {
      "text/plain": [
       "6"
      ]
     },
     "execution_count": 10,
     "metadata": {},
     "output_type": "execute_result"
    }
   ],
   "source": [
    "next(generador)"
   ]
  },
  {
   "cell_type": "markdown",
   "metadata": {},
   "source": [
    "**¡Ojo!:** Los objetos iterables como listas, tuplas, etc. que hemos visto NO son iteradores por defecto, si no que necesitan ser convertidos primero:"
   ]
  },
  {
   "cell_type": "code",
   "execution_count": 11,
   "metadata": {},
   "outputs": [],
   "source": [
    "lista_prueba = [1,4,3,2,6]"
   ]
  },
  {
   "cell_type": "code",
   "execution_count": 12,
   "metadata": {},
   "outputs": [
    {
     "ename": "TypeError",
     "evalue": "'list' object is not an iterator",
     "output_type": "error",
     "traceback": [
      "\u001b[0;31m-----------------------------------------------------------------\u001b[0m",
      "\u001b[0;31mTypeError\u001b[0m                       Traceback (most recent call last)",
      "\u001b[0;32m<ipython-input-12-af4b3575a7fa>\u001b[0m in \u001b[0;36m<module>\u001b[0;34m\u001b[0m\n\u001b[0;32m----> 1\u001b[0;31m \u001b[0mnext\u001b[0m\u001b[0;34m(\u001b[0m\u001b[0mlista_prueba\u001b[0m\u001b[0;34m)\u001b[0m\u001b[0;34m\u001b[0m\u001b[0;34m\u001b[0m\u001b[0m\n\u001b[0m",
      "\u001b[0;31mTypeError\u001b[0m: 'list' object is not an iterator"
     ]
    }
   ],
   "source": [
    "next(lista_prueba)"
   ]
  },
  {
   "cell_type": "code",
   "execution_count": 13,
   "metadata": {},
   "outputs": [],
   "source": [
    "iterador_prueba = iter(lista_prueba)"
   ]
  },
  {
   "cell_type": "code",
   "execution_count": 19,
   "metadata": {},
   "outputs": [
    {
     "ename": "StopIteration",
     "evalue": "",
     "output_type": "error",
     "traceback": [
      "\u001b[0;31m-----------------------------------------------------------------\u001b[0m",
      "\u001b[0;31mStopIteration\u001b[0m                   Traceback (most recent call last)",
      "\u001b[0;32m<ipython-input-19-c059a1354101>\u001b[0m in \u001b[0;36m<module>\u001b[0;34m\u001b[0m\n\u001b[0;32m----> 1\u001b[0;31m \u001b[0mnext\u001b[0m\u001b[0;34m(\u001b[0m\u001b[0miterador_prueba\u001b[0m\u001b[0;34m)\u001b[0m\u001b[0;34m\u001b[0m\u001b[0;34m\u001b[0m\u001b[0m\n\u001b[0m",
      "\u001b[0;31mStopIteration\u001b[0m: "
     ]
    }
   ],
   "source": [
    "next(iterador_prueba)"
   ]
  },
  {
   "cell_type": "code",
   "execution_count": 20,
   "metadata": {},
   "outputs": [],
   "source": [
    "def help_getter(modulo):\n",
    "    directorio = [func for func in dir(modulo) if not func.startswith(\"_\")]\n",
    "    directorio = iter(directorio)  # Iterador de funciones en el módulo\n",
    "    while directorio:  # Mientras no lo recorramos todo...\n",
    "        func = next(directorio)  # Obtenemos la siguiente función en el directorio\n",
    "        exec(f\"print(help(pyaudio.{func}))\") # Ejecutamos help() para dicha función\n",
    "        yield   # Retornamos el control hasta ser llamada de nuevo."
   ]
  },
  {
   "cell_type": "markdown",
   "metadata": {},
   "source": [
    "Inicializando:"
   ]
  },
  {
   "cell_type": "code",
   "execution_count": 21,
   "metadata": {},
   "outputs": [],
   "source": [
    "generador_ayuda = help_getter(pyaudio)"
   ]
  },
  {
   "cell_type": "code",
   "execution_count": 29,
   "metadata": {
    "collapsed": true,
    "jupyter": {
     "outputs_hidden": true
    }
   },
   "outputs": [
    {
     "name": "stdout",
     "output_type": "stream",
     "text": [
      "Help on int object:\n",
      "\n",
      "class int(object)\n",
      " |  int([x]) -> integer\n",
      " |  int(x, base=10) -> integer\n",
      " |  \n",
      " |  Convert a number or string to an integer, or return 0 if no arguments\n",
      " |  are given.  If x is a number, return x.__int__().  For floating point\n",
      " |  numbers, this truncates towards zero.\n",
      " |  \n",
      " |  If x is not a number or if base is given, then x must be a string,\n",
      " |  bytes, or bytearray instance representing an integer literal in the\n",
      " |  given base.  The literal can be preceded by '+' or '-' and be surrounded\n",
      " |  by whitespace.  The base defaults to 10.  Valid bases are 0 and 2-36.\n",
      " |  Base 0 means to interpret the base from the string as an integer literal.\n",
      " |  >>> int('0b100', base=0)\n",
      " |  4\n",
      " |  \n",
      " |  Methods defined here:\n",
      " |  \n",
      " |  __abs__(self, /)\n",
      " |      abs(self)\n",
      " |  \n",
      " |  __add__(self, value, /)\n",
      " |      Return self+value.\n",
      " |  \n",
      " |  __and__(self, value, /)\n",
      " |      Return self&value.\n",
      " |  \n",
      " |  __bool__(self, /)\n",
      " |      self != 0\n",
      " |  \n",
      " |  __ceil__(...)\n",
      " |      Ceiling of an Integral returns itself.\n",
      " |  \n",
      " |  __divmod__(self, value, /)\n",
      " |      Return divmod(self, value).\n",
      " |  \n",
      " |  __eq__(self, value, /)\n",
      " |      Return self==value.\n",
      " |  \n",
      " |  __float__(self, /)\n",
      " |      float(self)\n",
      " |  \n",
      " |  __floor__(...)\n",
      " |      Flooring an Integral returns itself.\n",
      " |  \n",
      " |  __floordiv__(self, value, /)\n",
      " |      Return self//value.\n",
      " |  \n",
      " |  __format__(self, format_spec, /)\n",
      " |      Default object formatter.\n",
      " |  \n",
      " |  __ge__(self, value, /)\n",
      " |      Return self>=value.\n",
      " |  \n",
      " |  __getattribute__(self, name, /)\n",
      " |      Return getattr(self, name).\n",
      " |  \n",
      " |  __getnewargs__(self, /)\n",
      " |  \n",
      " |  __gt__(self, value, /)\n",
      " |      Return self>value.\n",
      " |  \n",
      " |  __hash__(self, /)\n",
      " |      Return hash(self).\n",
      " |  \n",
      " |  __index__(self, /)\n",
      " |      Return self converted to an integer, if self is suitable for use as an index into a list.\n",
      " |  \n",
      " |  __int__(self, /)\n",
      " |      int(self)\n",
      " |  \n",
      " |  __invert__(self, /)\n",
      " |      ~self\n",
      " |  \n",
      " |  __le__(self, value, /)\n",
      " |      Return self<=value.\n",
      " |  \n",
      " |  __lshift__(self, value, /)\n",
      " |      Return self<<value.\n",
      " |  \n",
      " |  __lt__(self, value, /)\n",
      " |      Return self<value.\n",
      " |  \n",
      " |  __mod__(self, value, /)\n",
      " |      Return self%value.\n",
      " |  \n",
      " |  __mul__(self, value, /)\n",
      " |      Return self*value.\n",
      " |  \n",
      " |  __ne__(self, value, /)\n",
      " |      Return self!=value.\n",
      " |  \n",
      " |  __neg__(self, /)\n",
      " |      -self\n",
      " |  \n",
      " |  __or__(self, value, /)\n",
      " |      Return self|value.\n",
      " |  \n",
      " |  __pos__(self, /)\n",
      " |      +self\n",
      " |  \n",
      " |  __pow__(self, value, mod=None, /)\n",
      " |      Return pow(self, value, mod).\n",
      " |  \n",
      " |  __radd__(self, value, /)\n",
      " |      Return value+self.\n",
      " |  \n",
      " |  __rand__(self, value, /)\n",
      " |      Return value&self.\n",
      " |  \n",
      " |  __rdivmod__(self, value, /)\n",
      " |      Return divmod(value, self).\n",
      " |  \n",
      " |  __repr__(self, /)\n",
      " |      Return repr(self).\n",
      " |  \n",
      " |  __rfloordiv__(self, value, /)\n",
      " |      Return value//self.\n",
      " |  \n",
      " |  __rlshift__(self, value, /)\n",
      " |      Return value<<self.\n",
      " |  \n",
      " |  __rmod__(self, value, /)\n",
      " |      Return value%self.\n",
      " |  \n",
      " |  __rmul__(self, value, /)\n",
      " |      Return value*self.\n",
      " |  \n",
      " |  __ror__(self, value, /)\n",
      " |      Return value|self.\n",
      " |  \n",
      " |  __round__(...)\n",
      " |      Rounding an Integral returns itself.\n",
      " |      Rounding with an ndigits argument also returns an integer.\n",
      " |  \n",
      " |  __rpow__(self, value, mod=None, /)\n",
      " |      Return pow(value, self, mod).\n",
      " |  \n",
      " |  __rrshift__(self, value, /)\n",
      " |      Return value>>self.\n",
      " |  \n",
      " |  __rshift__(self, value, /)\n",
      " |      Return self>>value.\n",
      " |  \n",
      " |  __rsub__(self, value, /)\n",
      " |      Return value-self.\n",
      " |  \n",
      " |  __rtruediv__(self, value, /)\n",
      " |      Return value/self.\n",
      " |  \n",
      " |  __rxor__(self, value, /)\n",
      " |      Return value^self.\n",
      " |  \n",
      " |  __sizeof__(self, /)\n",
      " |      Returns size in memory, in bytes.\n",
      " |  \n",
      " |  __str__(self, /)\n",
      " |      Return str(self).\n",
      " |  \n",
      " |  __sub__(self, value, /)\n",
      " |      Return self-value.\n",
      " |  \n",
      " |  __truediv__(self, value, /)\n",
      " |      Return self/value.\n",
      " |  \n",
      " |  __trunc__(...)\n",
      " |      Truncating an Integral returns itself.\n",
      " |  \n",
      " |  __xor__(self, value, /)\n",
      " |      Return self^value.\n",
      " |  \n",
      " |  bit_length(self, /)\n",
      " |      Number of bits necessary to represent self in binary.\n",
      " |      \n",
      " |      >>> bin(37)\n",
      " |      '0b100101'\n",
      " |      >>> (37).bit_length()\n",
      " |      6\n",
      " |  \n",
      " |  conjugate(...)\n",
      " |      Returns self, the complex conjugate of any int.\n",
      " |  \n",
      " |  to_bytes(self, /, length, byteorder, *, signed=False)\n",
      " |      Return an array of bytes representing an integer.\n",
      " |      \n",
      " |      length\n",
      " |        Length of bytes object to use.  An OverflowError is raised if the\n",
      " |        integer is not representable with the given number of bytes.\n",
      " |      byteorder\n",
      " |        The byte order used to represent the integer.  If byteorder is 'big',\n",
      " |        the most significant byte is at the beginning of the byte array.  If\n",
      " |        byteorder is 'little', the most significant byte is at the end of the\n",
      " |        byte array.  To request the native byte order of the host system, use\n",
      " |        `sys.byteorder' as the byte order value.\n",
      " |      signed\n",
      " |        Determines whether two's complement is used to represent the integer.\n",
      " |        If signed is False and a negative integer is given, an OverflowError\n",
      " |        is raised.\n",
      " |  \n",
      " |  ----------------------------------------------------------------------\n",
      " |  Class methods defined here:\n",
      " |  \n",
      " |  from_bytes(bytes, byteorder, *, signed=False) from builtins.type\n",
      " |      Return the integer represented by the given array of bytes.\n",
      " |      \n",
      " |      bytes\n",
      " |        Holds the array of bytes to convert.  The argument must either\n",
      " |        support the buffer protocol or be an iterable object producing bytes.\n",
      " |        Bytes and bytearray are examples of built-in objects that support the\n",
      " |        buffer protocol.\n",
      " |      byteorder\n",
      " |        The byte order used to represent the integer.  If byteorder is 'big',\n",
      " |        the most significant byte is at the beginning of the byte array.  If\n",
      " |        byteorder is 'little', the most significant byte is at the end of the\n",
      " |        byte array.  To request the native byte order of the host system, use\n",
      " |        `sys.byteorder' as the byte order value.\n",
      " |      signed\n",
      " |        Indicates whether two's complement is used to represent the integer.\n",
      " |  \n",
      " |  ----------------------------------------------------------------------\n",
      " |  Static methods defined here:\n",
      " |  \n",
      " |  __new__(*args, **kwargs) from builtins.type\n",
      " |      Create and return a new object.  See help(type) for accurate signature.\n",
      " |  \n",
      " |  ----------------------------------------------------------------------\n",
      " |  Data descriptors defined here:\n",
      " |  \n",
      " |  denominator\n",
      " |      the denominator of a rational number in lowest terms\n",
      " |  \n",
      " |  imag\n",
      " |      the imaginary part of a complex number\n",
      " |  \n",
      " |  numerator\n",
      " |      the numerator of a rational number in lowest terms\n",
      " |  \n",
      " |  real\n",
      " |      the real part of a complex number\n",
      "\n",
      "None\n"
     ]
    }
   ],
   "source": [
    "next(generador_ayuda)"
   ]
  },
  {
   "cell_type": "markdown",
   "metadata": {},
   "source": [
    "# Configuración básica de un canal de entrada"
   ]
  },
  {
   "cell_type": "code",
   "execution_count": 30,
   "metadata": {},
   "outputs": [],
   "source": [
    "import os\n",
    "import time\n",
    "from tkinter import TclError"
   ]
  },
  {
   "cell_type": "code",
   "execution_count": 31,
   "metadata": {},
   "outputs": [],
   "source": [
    "p = pyaudio.PyAudio()"
   ]
  },
  {
   "cell_type": "code",
   "execution_count": 32,
   "metadata": {},
   "outputs": [
    {
     "data": {
      "text/plain": [
       "{'index': 8,\n",
       " 'structVersion': 2,\n",
       " 'name': 'default',\n",
       " 'hostApi': 0,\n",
       " 'maxInputChannels': 32,\n",
       " 'maxOutputChannels': 32,\n",
       " 'defaultLowInputLatency': 0.008684807256235827,\n",
       " 'defaultLowOutputLatency': 0.008684807256235827,\n",
       " 'defaultHighInputLatency': 0.034807256235827665,\n",
       " 'defaultHighOutputLatency': 0.034807256235827665,\n",
       " 'defaultSampleRate': 44100.0}"
      ]
     },
     "execution_count": 32,
     "metadata": {},
     "output_type": "execute_result"
    }
   ],
   "source": [
    "p.get_default_input_device_info()"
   ]
  },
  {
   "cell_type": "code",
   "execution_count": 38,
   "metadata": {},
   "outputs": [
    {
     "data": {
      "text/plain": [
       "{'index': 5,\n",
       " 'structVersion': 2,\n",
       " 'name': 'HDA NVidia: HDMI 0 (hw:1,3)',\n",
       " 'hostApi': 0,\n",
       " 'maxInputChannels': 0,\n",
       " 'maxOutputChannels': 2,\n",
       " 'defaultLowInputLatency': -1.0,\n",
       " 'defaultLowOutputLatency': 0.005804988662131519,\n",
       " 'defaultHighInputLatency': -1.0,\n",
       " 'defaultHighOutputLatency': 0.034829931972789115,\n",
       " 'defaultSampleRate': 44100.0}"
      ]
     },
     "execution_count": 38,
     "metadata": {},
     "output_type": "execute_result"
    }
   ],
   "source": [
    "p.get_device_info_by_index(5)"
   ]
  },
  {
   "cell_type": "code",
   "execution_count": null,
   "metadata": {},
   "outputs": [],
   "source": [
    "help(pyaudio.Stream.__init__)"
   ]
  },
  {
   "cell_type": "markdown",
   "metadata": {},
   "source": [
    "Necesitamos explicar algunos conceptos:\n",
    "* Buffer: Región reservada de memoria donde temporalmente se almacenará algo pero se sobreescribe en demanda de nueva data a guardar\n",
    "\n",
    "* Chunks: Número de muestras a guardar en el buffer a la vez. En el ejemplo de abajo, al elegir 2048 como tamaño del chunk, signfica que tendremos 2048 muestras antes de que nuestro buffer se llene y debamos sobreescribir la información. Esta información es almacenada para poder procesarla adecuadamente (ej. algoritmos para discernir si la señal es asemejada a un ruido blanco o catalogable como voz humana) y evitar fugas de memoria\n",
    "\n",
    "* Format: El tipo de dato interno en memoria en el cual guardaremos **cada elemento de la muestra**. Esto es conocido como \"[bit depth](https://en.wikipedia.org/wiki/Audio_bit_depth)\" y define cuántos posibles niveles distinguibles de \"volumen\" podremos representar digitalmente. El estándar de la industria para productos finales es de 16 pero se puede llegar a necesitar 24 en casos de grabaciones individuales de instrumentos con partes tenues (como un baterista tocando el platillo con suavidad) que quieran ser capturadas sin distorción.\n",
    "\n",
    "* Channel: Es un canal para flujo continuo de información unidimensional, si agregamos más canales (no todos los dispositivos pueden) podríamos obtener más de una cadena continua de información y, por ejemplo, triangular la posición de la fuente de sonido.\n",
    "\n",
    "* Rate: Tasa de muestreo (muestras por segundo). Es decir, cada segundo que pasa, en este caso, se toman 44,100 puntos. Esto es porque la frecuencia que necesitamos digitalizar debe ser reconstruirse a un mínimo de precisión de 20 kHz (el máximo estimado de audición humana). \n",
    "\n",
    "  Para lograr esta precisión, según el [teorema de Nyquist-Shannon](https://en.wikipedia.org/wiki/Nyquist%E2%80%93Shannon_sampling_theorem), necesitamos al menos tantos puntos por segundo en nuestra señal discreta (digital) como el doble de la frecuencia de oscilación de la señal continua (análoga). Esto quiere decir que ocupamos una tasa de muetreo de 40 kHz, o bien, 40,000 puntos por segundo.\n",
    "  \n",
    "  Se adiciona un poco más ([44,100](https://en.wikipedia.org/wiki/44,100_Hz)) por múltiples razones. Quizá la más importante siendo el evitar [solapamiento/aliasing](https://en.wikipedia.org/wiki/Aliasing) que igual puede ocurrir por pequeños defectos en múltiples etapas del proceso de almacenamiento y restauración del audio o ruido dentro de la señal. Para eso se utiliza un filtro [anti-solapamiento](https://en.wikipedia.org/wiki/Anti-aliasing_filter) que en la práctica necesita de una [banda de transición](https://en.wikipedia.org/wiki/Transition_band) y en este caso nos podemos permitir una banda de transición de 2.05 kHz.\n"
   ]
  },
  {
   "cell_type": "code",
   "execution_count": 39,
   "metadata": {},
   "outputs": [],
   "source": [
    "# Se utiliza para que las figuras de matplotlib se abran en otra ventana aparte\n",
    "%matplotlib tk\n",
    "\n",
    "# constantes\n",
    "CHUNK = 1024 * 2                 # número de objetos (de tipo FORMAT) almacenados a la vez\n",
    "FORMAT = pyaudio.paInt16     # Tipo de dato de cada observación\n",
    "CHANNELS = 1                 # Un canal para el micrófono\n",
    "RATE = 44100                 # muestras por segundo, i.e 44.1 kHz, estándar de la industria \n",
    "                             # para CDs, mp3. También 48 kHz es común para DVDs y Blu-rays\n",
    "# input_device_index=13"
   ]
  },
  {
   "cell_type": "code",
   "execution_count": 41,
   "metadata": {},
   "outputs": [
    {
     "name": "stdout",
     "output_type": "stream",
     "text": [
      "Canal abierto\n",
      "Canal cerrado\n",
      "FPS promedio = 21 FPS\n"
     ]
    }
   ],
   "source": [
    "# Creando figura de matplotlib\n",
    "fig, ax = plt.subplots(1, figsize=(15, 7))\n",
    "\n",
    "# Instancia de clase PyAudio para administrar los canales de entrada y salida\n",
    "p = pyaudio.PyAudio()\n",
    "\n",
    "# Se abre el flujo (stream) para la transmisión de data en tiempo real\n",
    "stream = p.open(\n",
    "    format=FORMAT,\n",
    "    channels=CHANNELS,\n",
    "    rate=RATE,\n",
    "    input=True,\n",
    "    output=False,\n",
    "    frames_per_buffer=CHUNK\n",
    ")\n",
    "\n",
    "\"\"\"\n",
    "Como tendremos en memoria tantos puntos como el chunk size nos permite, utilizaremos CHUNK número de puntos en el dominio (x). \n",
    "Tenemos tamaño de paso igual a 2 porque la data se nos otorga en bytes (8 bits) y nuestro tipo de dato utilizado es Int16, que \n",
    "se almacena utilizando 16 bits. Por ello, cada elemento de la muestra tomada contiene 2 bytes.\n",
    "\"\"\"\n",
    "x = np.arange(0, 2 * CHUNK, 2) # x = [0, 2, 4, ..., 4090, 4092]\n",
    "\n",
    "# Creamos un objeto linea (al azar, pues no importa su valor inicial), el cual se actualizará dentro de un ciclo de repetición.\n",
    "# Esto evita el necesitar actualizar la figura entera del pyplot, lo cual sería demasiado lento.\n",
    "line, = ax.plot(x, np.random.rand(CHUNK), '-', lw=2)\n",
    "\n",
    "# Formato del objeto Ejes\n",
    "ax.set_title('Audio Waveform')\n",
    "ax.set_xlabel('Muestras')\n",
    "ax.set_ylabel('Volumen')\n",
    "ax.set_ylim(-2**15, 2**15-1)\n",
    "\n",
    "# Incializa la figura\n",
    "plt.show(block=False)\n",
    "\n",
    "print('Canal abierto')\n",
    "\n",
    "# for measuring frame rate\n",
    "frame_count = 0\n",
    "start_time = time.time()\n",
    "\n",
    "while True:\n",
    "    \n",
    "    # Leemos los datos binarios que vienen en el flujo\n",
    "    data = stream.read(CHUNK)  # data = [1,0,0,1,0,1,1,1,...] \n",
    "    \n",
    "    # Como la data la queremos en Int16, usamos 'h' al final.\n",
    "    # en caso de haber querido bytes, se utiliza una 'B '\n",
    "    data_np = struct.unpack(str(CHUNK) + 'h', data)\n",
    "\n",
    "    # Se actualiza la linea\n",
    "    line.set_ydata(data_np)\n",
    "    \n",
    "    # Se actualiza la figura en el canvas\n",
    "    try:\n",
    "        fig.canvas.draw()\n",
    "        fig.canvas.flush_events()\n",
    "        frame_count += 1\n",
    "    \n",
    "    # Entramos aquí al cerrar la figura y por ende recibir un TclError\n",
    "    except TclError:\n",
    "        \n",
    "        # Cerramos el canal de audio\n",
    "        p.close(stream)\n",
    "        \n",
    "        # Posteriormente, calcula el FPS\n",
    "        frame_rate = frame_count / (time.time() - start_time)\n",
    "        \n",
    "        print('Canal cerrado')\n",
    "        print('FPS promedio = {:.0f} FPS'.format(frame_rate))\n",
    "        break"
   ]
  },
  {
   "cell_type": "markdown",
   "metadata": {},
   "source": [
    "# Análisis del espectro de frecuencias "
   ]
  },
  {
   "cell_type": "code",
   "execution_count": 42,
   "metadata": {},
   "outputs": [],
   "source": [
    "# Necesitaremos fft: La transformada rápida de fourier\n",
    "from scipy.fftpack import fft"
   ]
  },
  {
   "cell_type": "code",
   "execution_count": 43,
   "metadata": {},
   "outputs": [
    {
     "name": "stdout",
     "output_type": "stream",
     "text": [
      "stream started\n",
      "stream stopped\n",
      "average frame rate = 21 FPS\n"
     ]
    }
   ],
   "source": [
    "# create matplotlib figure and axes\n",
    "fig, (ax1, ax2) = plt.subplots(2, figsize=(15, 7))\n",
    "\n",
    "# pyaudio class instance\n",
    "p = pyaudio.PyAudio()\n",
    "\n",
    "# stream object to get data from microphone\n",
    "stream = p.open(\n",
    "    format=FORMAT,\n",
    "    channels=CHANNELS,\n",
    "    rate=RATE,\n",
    "    input=True,\n",
    "    output=False,\n",
    "    frames_per_buffer=CHUNK\n",
    ")\n",
    "\n",
    "# variable for plotting\n",
    "x = np.arange(0, 2 * CHUNK, 2)       # samples (waveform)\n",
    "xf = np.linspace(0, RATE, CHUNK)     # frequencies (spectrum)\n",
    "\n",
    "# create a line object with random data\n",
    "line, = ax1.plot(x, np.random.rand(CHUNK), '-', lw=2)\n",
    "\n",
    "# create semilogx line for spectrum\n",
    "line_fft, = ax2.semilogx(xf, np.random.rand(CHUNK), '-', lw=2)\n",
    "\n",
    "# format waveform axes\n",
    "ax1.set_title('AUDIO WAVEFORM')\n",
    "ax1.set_xlabel('samples')\n",
    "ax1.set_ylabel('volume')\n",
    "ax1.set_ylim(-2**15, 2**15-1)\n",
    "#ax1.set_ylim(0, 255)\n",
    "#ax1.set_xlim(0, 2 * CHUNK)\n",
    "plt.setp(ax1, xticks=[0, CHUNK, 2 * CHUNK])\n",
    "\n",
    "# format spectrum axes\n",
    "ax2.set_xlim(20, RATE / 2)\n",
    "ax2.set_ylim(0, 25)\n",
    "ax2.set_xlabel('Frecuencias')\n",
    "\n",
    "print('stream started')\n",
    "\n",
    "# for measuring frame rate\n",
    "frame_count = 0\n",
    "start_time = time.time()\n",
    "\n",
    "while True:\n",
    "    \n",
    "    # binary data\n",
    "    data = stream.read(CHUNK)  \n",
    "    \n",
    "    # convert data to integers, make np array, then offset it by 127\n",
    "    #data_int = struct.unpack(str(2 * CHUNK) + 'B', data)\n",
    "    \n",
    "    # create np array and offset by 128\n",
    "    #data_np = np.array(data_int, dtype='b')[::2] + 128\n",
    "    data_np = struct.unpack(str(CHUNK) + 'h', data)\n",
    "    \n",
    "    \n",
    "    line.set_ydata(data_np)\n",
    "    \n",
    "    # compute FFT and update line\n",
    "    yf = fft(data_np)\n",
    "    line_fft.set_ydata(np.abs(yf[0:CHUNK])  / (128 * CHUNK))\n",
    "    \n",
    "    # update figure canvas\n",
    "    try:\n",
    "        fig.canvas.draw()\n",
    "        fig.canvas.flush_events()\n",
    "        frame_count += 1\n",
    "        \n",
    "    except TclError:\n",
    "        # Cerramos el canal de audio\n",
    "        p.close(stream)\n",
    "        \n",
    "        # calculate average frame rate\n",
    "        frame_rate = frame_count / (time.time() - start_time)\n",
    "        \n",
    "        print('stream stopped')\n",
    "        print('average frame rate = {:.0f} FPS'.format(frame_rate))\n",
    "        break"
   ]
  },
  {
   "cell_type": "code",
   "execution_count": null,
   "metadata": {},
   "outputs": [],
   "source": []
  }
 ],
 "metadata": {
  "kernelspec": {
   "display_name": "Python 3",
   "language": "python",
   "name": "python3"
  },
  "language_info": {
   "codemirror_mode": {
    "name": "ipython",
    "version": 3
   },
   "file_extension": ".py",
   "mimetype": "text/x-python",
   "name": "python",
   "nbconvert_exporter": "python",
   "pygments_lexer": "ipython3",
   "version": "3.7.7"
  }
 },
 "nbformat": 4,
 "nbformat_minor": 4
}
